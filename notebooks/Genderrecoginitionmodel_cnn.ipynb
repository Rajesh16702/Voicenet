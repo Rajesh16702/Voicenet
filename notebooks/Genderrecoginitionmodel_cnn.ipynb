{
 "cells": [
  {
   "cell_type": "code",
   "execution_count": 26,
   "metadata": {},
   "outputs": [],
   "source": [
    "from voicenet.datasets import stamerican\n",
    "from voicenet.training import GMMModelTraining\n",
    "from voicenet.utils import FeatureExtraction\n",
    "import os\n",
    "import numpy as np\n",
    "from keras import models\n",
    "from keras import layers\n",
    "from keras.layers import Dropout\n",
    "from keras.layers import BatchNormalization\n",
    "import matplotlib.pyplot as plt\n",
    "from scipy import stats"
   ]
  },
  {
   "cell_type": "code",
   "execution_count": 2,
   "metadata": {},
   "outputs": [
    {
     "name": "stdout",
     "output_type": "stream",
     "text": [
      "../data/raw\n",
      "Downloading ST American English Corpus...\n",
      "ST-AEDS-20180100_1-OS.tgz already downloaded\n",
      "No extraction was performed !\n",
      "f0001\n",
      "0\n",
      "0\n",
      "{'f0001': [], 'f0002': [], 'f0003': [], 'f0004': [], 'f0005': [], 'm0001': [], 'm0002': [], 'm0003': [], 'm0004': [], 'm0005': []}\n",
      "[]\n",
      "f0002\n",
      "0\n",
      "0\n",
      "{'f0001': [], 'f0002': [], 'f0003': [], 'f0004': [], 'f0005': [], 'm0001': [], 'm0002': [], 'm0003': [], 'm0004': [], 'm0005': []}\n",
      "[]\n",
      "f0003\n",
      "0\n",
      "0\n",
      "{'f0001': [], 'f0002': [], 'f0003': [], 'f0004': [], 'f0005': [], 'm0001': [], 'm0002': [], 'm0003': [], 'm0004': [], 'm0005': []}\n",
      "[]\n",
      "f0004\n",
      "0\n",
      "0\n",
      "{'f0001': [], 'f0002': [], 'f0003': [], 'f0004': [], 'f0005': [], 'm0001': [], 'm0002': [], 'm0003': [], 'm0004': [], 'm0005': []}\n",
      "[]\n",
      "f0005\n",
      "0\n",
      "0\n",
      "{'f0001': [], 'f0002': [], 'f0003': [], 'f0004': [], 'f0005': [], 'm0001': [], 'm0002': [], 'm0003': [], 'm0004': [], 'm0005': []}\n",
      "[]\n",
      "m0001\n",
      "0\n",
      "0\n",
      "{'f0001': [], 'f0002': [], 'f0003': [], 'f0004': [], 'f0005': [], 'm0001': [], 'm0002': [], 'm0003': [], 'm0004': [], 'm0005': []}\n",
      "[]\n",
      "m0002\n",
      "0\n",
      "0\n",
      "{'f0001': [], 'f0002': [], 'f0003': [], 'f0004': [], 'f0005': [], 'm0001': [], 'm0002': [], 'm0003': [], 'm0004': [], 'm0005': []}\n",
      "[]\n",
      "m0003\n",
      "0\n",
      "0\n",
      "{'f0001': [], 'f0002': [], 'f0003': [], 'f0004': [], 'f0005': [], 'm0001': [], 'm0002': [], 'm0003': [], 'm0004': [], 'm0005': []}\n",
      "[]\n",
      "m0004\n",
      "0\n",
      "0\n",
      "{'f0001': [], 'f0002': [], 'f0003': [], 'f0004': [], 'f0005': [], 'm0001': [], 'm0002': [], 'm0003': [], 'm0004': [], 'm0005': []}\n",
      "[]\n",
      "m0005\n",
      "0\n",
      "0\n",
      "{'f0001': [], 'f0002': [], 'f0003': [], 'f0004': [], 'f0005': [], 'm0001': [], 'm0002': [], 'm0003': [], 'm0004': [], 'm0005': []}\n",
      "[]\n",
      "[]\n",
      "Exception raised:  ../data/raw/ST-AEDS/TrainingData could not be created !\n",
      "Exception raised:  ../data/raw/ST-AEDS/TestingData could not be created !\n",
      "Exception raised:  ../data/raw/ST-AEDS/TrainingData/females could not be created !\n",
      "Exception raised:  ../data/raw/ST-AEDS/TrainingData/males could not be created !\n",
      "Exception raised:  ../data/raw/ST-AEDS/TestingData/females could not be created !\n",
      "Exception raised:  ../data/raw/ST-AEDS/TestingData/males could not be created !\n",
      "Moving!\n",
      "[]\n",
      "Moving!\n",
      "[]\n",
      "Moving!\n",
      "[]\n",
      "Moving!\n",
      "[]\n",
      "[0, 0, 0, 0, 0, 0, 0, 0, 0, 0, 0, 0, 0, 0, 0, 0, 0, 0, 0, 0, 0, 0, 0, 0, 0, 0, 0, 0, 0, 0, 0, 0, 0, 0, 0, 0, 0, 0, 0, 0, 0, 0, 0, 0, 0, 0, 0, 0, 0, 0, 0, 0, 0, 0, 0, 0, 0, 0, 0, 0, 0, 0, 0, 0, 0, 0, 0, 0, 0, 0, 0, 0, 0, 0, 0, 0, 0, 0, 0, 0, 0, 0, 0, 0, 0, 0, 0, 0, 0, 0, 0, 0, 0, 0, 0, 0, 0, 0, 0, 0, 0, 0, 0, 0, 0, 0, 0, 0, 0, 0, 0, 0, 0, 0, 0, 0, 0, 0, 0, 0, 0, 0, 0, 0, 0, 0, 0, 0, 0, 0, 0, 0, 0, 0, 0, 0, 0, 0, 0, 0, 0, 0, 0, 0, 0, 0, 0, 0, 0, 0, 0, 0, 0, 0, 0, 0, 0, 0, 0, 0, 0, 0, 0, 0, 0, 0, 0, 0, 0, 0, 0, 0, 0, 0, 0, 0, 0, 0, 0, 0, 0, 0, 0, 0, 0, 0, 0, 0, 0, 0, 0, 0, 0, 0, 0, 0, 0, 0, 0, 0, 0, 0, 0, 0, 0, 0, 0, 0, 0, 0, 0, 0, 0, 0, 0, 0, 0, 0, 0, 0, 0, 0, 0, 0, 0, 0, 0, 0, 0, 0, 0, 0, 0, 0, 0, 0, 0, 0, 0, 0, 0, 0, 0, 0, 0, 0, 0, 0, 0, 0, 0, 0, 0, 0, 0, 0, 0, 0, 0, 0, 0, 0, 0, 0, 0, 0, 0, 0, 0, 0, 0, 0, 0, 0, 0, 0, 0, 0, 0, 0, 0, 0, 0, 0, 0, 0, 0, 0, 0, 0, 0, 0, 0, 0, 0, 0, 0, 0, 0, 0, 0, 0, 0, 0, 0, 0, 0, 0, 0, 0, 0, 0, 0, 0, 0, 0, 0, 0, 0, 0, 0, 0, 0, 0, 0, 0, 0, 0, 0, 0, 0, 0, 0, 0, 0, 0, 0, 0, 0, 0, 0, 0, 0, 0, 0, 0, 0, 0, 0, 0, 0, 0, 0, 0, 0, 0, 0, 0, 0, 0, 0, 0, 0, 0, 0, 0, 0, 0, 0, 0, 0, 0, 0, 0, 0, 0, 0, 0, 0, 0, 0, 0, 0, 0, 0, 0, 0, 0, 0, 0, 0, 0, 0, 0, 0, 0, 0, 0, 0, 0, 0, 0, 0, 0, 0, 0, 0, 0, 0, 0, 0, 0, 0, 0, 0, 0, 0, 0, 0, 0, 0, 0, 0, 0, 0, 0, 0, 0, 0, 0, 0, 0, 0, 0, 0, 0, 0, 0, 0, 0, 0, 0, 0, 0, 0, 0, 0, 0, 0, 0, 0, 0, 0, 0, 0, 0, 0, 0, 0, 0, 0, 0, 0, 0, 0, 0, 0, 0, 0, 0, 0, 0, 0, 0, 0, 0, 0, 0, 0, 0, 0, 0, 0, 0, 0, 0, 0, 0, 0, 0, 0, 0, 0, 0, 0, 0, 0, 0, 0, 0, 0, 0, 0, 0, 0, 0, 0, 0, 0, 0, 0, 0, 0, 0, 0, 0, 0, 0, 0, 0, 0, 0, 0, 0, 0, 0, 0, 0, 0, 0, 0, 0, 0, 0, 0, 0, 0, 0, 0, 0, 0, 0, 0, 0, 0, 0, 0, 0, 0, 0, 0, 0, 0, 0, 0, 0, 0, 0, 0, 0, 0, 0, 0, 0, 0, 0, 0, 0, 0, 0, 0, 0, 0, 0, 0, 0, 0, 0, 0, 0, 0, 0, 0, 0, 0, 0, 0, 0, 0, 0, 0, 0, 0, 0, 0, 0, 0, 0, 0, 0, 0, 0, 0, 0, 0, 0, 0, 0, 0, 0, 0, 0, 0, 0, 0, 0, 0, 0, 0, 0, 0, 0, 0, 0, 0, 0, 0, 0, 0, 0, 0, 0, 0, 0, 0, 0, 0, 0, 0, 0, 0, 0, 0, 0, 0, 0, 0, 0, 0, 0, 0, 0, 0, 0, 0, 0, 0, 0, 0, 0, 0, 0, 0, 0, 0, 0, 0, 0, 0, 0, 0, 0, 0, 0, 0, 0, 0, 0, 0, 0, 0, 0, 0, 0, 0, 0, 0, 0, 0, 0, 0, 0, 0, 0, 0, 0, 0, 0, 0, 0, 0, 0, 0, 0, 0, 0, 0, 0, 0, 0, 0, 0, 0, 0, 0, 0, 0, 0, 0, 0, 0, 0, 0, 0, 0, 0, 0, 0, 0, 0, 0, 1, 1, 1, 1, 1, 1, 1, 1, 1, 1, 1, 1, 1, 1, 1, 1, 1, 1, 1, 1, 1, 1, 1, 1, 1, 1, 1, 1, 1, 1, 1, 1, 1, 1, 1, 1, 1, 1, 1, 1, 1, 1, 1, 1, 1, 1, 1, 1, 1, 1, 1, 1, 1, 1, 1, 1, 1, 1, 1, 1, 1, 1, 1, 1, 1, 1, 1, 1, 1, 1, 1, 1, 1, 1, 1, 1, 1, 1, 1, 1, 1, 1, 1, 1, 1, 1, 1, 1, 1, 1, 1, 1, 1, 1, 1, 1, 1, 1, 1, 1, 1, 1, 1, 1, 1, 1, 1, 1, 1, 1, 1, 1, 1, 1, 1, 1, 1, 1, 1, 1, 1, 1, 1, 1, 1, 1, 1, 1, 1, 1, 1, 1, 1, 1, 1, 1, 1, 1, 1, 1, 1, 1, 1, 1, 1, 1, 1, 1, 1, 1, 1, 1, 1, 1, 1, 1, 1, 1, 1, 1, 1, 1, 1, 1, 1, 1, 1, 1, 1, 1, 1, 1, 1, 1, 1, 1, 1, 1, 1, 1, 1, 1, 1, 1, 1, 1, 1, 1, 1, 1, 1, 1, 1, 1, 1, 1, 1, 1, 1, 1, 1, 1, 1, 1, 1, 1, 1, 1, 1, 1, 1, 1, 1, 1, 1, 1, 1, 1, 1, 1, 1, 1, 1, 1, 1, 1, 1, 1, 1, 1, 1, 1, 1, 1, 1, 1, 1, 1, 1, 1, 1, 1, 1, 1, 1, 1, 1, 1, 1, 1, 1, 1, 1, 1, 1, 1, 1, 1, 1, 1, 1, 1, 1, 1, 1, 1, 1, 1, 1, 1, 1, 1, 1, 1, 1, 1, 1, 1, 1, 1, 1, 1, 1, 1, 1, 1, 1, 1, 1, 1, 1, 1, 1, 1, 1, 1, 1, 1, 1, 1, 1, 1, 1, 1, 1, 1, 1, 1, 1, 1, 1, 1, 1, 1, 1, 1, 1, 1, 1, 1, 1, 1, 1, 1, 1, 1, 1, 1, 1, 1, 1, 1, 1, 1, 1, 1, 1, 1, 1, 1, 1, 1, 1, 1, 1, 1, 1, 1, 1, 1, 1, 1, 1, 1, 1, 1, 1, 1, 1, 1, 1, 1, 1, 1, 1, 1, 1, 1, 1, 1, 1, 1, 1, 1, 1, 1, 1, 1, 1, 1, 1, 1, 1, 1, 1, 1, 1, 1, 1, 1, 1, 1, 1, 1, 1, 1, 1, 1, 1, 1, 1, 1, 1, 1, 1, 1, 1, 1, 1, 1, 1, 1, 1, 1, 1, 1, 1, 1, 1, 1, 1, 1, 1, 1, 1, 1, 1, 1, 1, 1, 1, 1, 1, 1, 1, 1, 1, 1, 1, 1, 1, 1, 1, 1, 1, 1, 1, 1, 1, 1, 1, 1, 1, 1, 1, 1, 1, 1, 1, 1, 1, 1, 1, 1, 1, 1, 1, 1, 1, 1, 1, 1, 1, 1, 1, 1, 1, 1, 1, 1, 1, 1, 1, 1, 1, 1, 1, 1, 1, 1, 1, 1, 1, 1, 1, 1, 1, 1, 1, 1, 1, 1, 1, 1, 1, 1, 1, 1, 1, 1, 1, 1, 1, 1, 1, 1, 1, 1, 1, 1, 1, 1, 1, 1, 1, 1, 1, 1, 1, 1, 1, 1, 1, 1, 1, 1, 1, 1, 1, 1, 1, 1, 1, 1, 1, 1, 1, 1, 1, 1, 1, 1, 1, 1]\n"
     ]
    }
   ],
   "source": [
    "# stamerican(direc='./data/raw')\n",
    "\n",
    "(x_train, y_train), (x_test, y_test) = stamerican('../data/raw')\n",
    "\n",
    "print(y_test)"
   ]
  },
  {
   "cell_type": "markdown",
   "metadata": {},
   "source": [
    "## FLATTEN FEATURES"
   ]
  },
  {
   "cell_type": "code",
   "execution_count": 43,
   "metadata": {},
   "outputs": [],
   "source": [
    "def flatten_features_mfcc(files_list):\n",
    "        \n",
    "        \"\"\" Create features for all '.wav' files contains in files_list\n",
    "        \n",
    "        Arguments:\n",
    "            files_list: takes a list of '.wav' training files\n",
    "\n",
    "        Returns:\n",
    "            features: creates a vector of all .wav training files and stack them over as an array\n",
    "        \"\"\"\n",
    "        \n",
    "        features = np.asarray(())\n",
    "        \n",
    "        for file in files_list:\n",
    "            \n",
    "#             logging.info(\"Creating features for {0}\".format(file))\n",
    "            \n",
    "            # mfccfeatures = mfcc_features()\n",
    "            vector = FeatureExtraction.mfcc_feature(file)\n",
    "            \n",
    "#             print(vector.shape)\n",
    "            \n",
    "            vector1 = np.dot(np.transpose(vector),vector)\n",
    "            \n",
    "#             print(vector1.shape)\n",
    "            \n",
    "            ## If features array is empty then stacking is not possible.\n",
    "            if features.size == 0:\n",
    "                ## Each features will be flatten of 39*39 => 1521\n",
    "                features = vector1.flatten()\n",
    "                \n",
    "            else:\n",
    "                features = np.vstack((features, vector1.flatten()))\n",
    "                \n",
    "        return features"
   ]
  },
  {
   "cell_type": "code",
   "execution_count": 44,
   "metadata": {},
   "outputs": [],
   "source": [
    "X_train = flatten_features_mfcc(x_train)"
   ]
  },
  {
   "cell_type": "code",
   "execution_count": 6,
   "metadata": {},
   "outputs": [
    {
     "data": {
      "text/plain": [
       "(2557, 1521)"
      ]
     },
     "execution_count": 6,
     "metadata": {},
     "output_type": "execute_result"
    }
   ],
   "source": [
    "X_train.shape"
   ]
  },
  {
   "cell_type": "code",
   "execution_count": 51,
   "metadata": {},
   "outputs": [
    {
     "data": {
      "image/png": "[encoded data removed]",
      "text/plain": [
       "<Figure size 432x288 with 1 Axes>"
      ]
     },
     "metadata": {
      "needs_background": "light"
     },
     "output_type": "display_data"
    }
   ],
   "source": [
    "plt.plot(X_train)\n",
    "plt.show()"
   ]
  },
  {
   "cell_type": "code",
   "execution_count": 10,
   "metadata": {},
   "outputs": [
    {
     "data": {
      "text/plain": [
       "(2557,)"
      ]
     },
     "execution_count": 10,
     "metadata": {},
     "output_type": "execute_result"
    }
   ],
   "source": [
    "np.array(y_train).shape"
   ]
  },
  {
   "cell_type": "markdown",
   "metadata": {},
   "source": [
    "## Vanilla NN"
   ]
  },
  {
   "cell_type": "code",
   "execution_count": 45,
   "metadata": {},
   "outputs": [],
   "source": [
    "model = models.Sequential()\n",
    "# model.add(layers.Dense(512, activation='relu', )\n",
    "# model.add(layers.Dense(512, activation='relu', input_shape =(X_train.shape[1],)))\n",
    "# model.add(BatchNormalization())\n",
    "# model.add(Dropout(0.50))\n",
    "model.add(layers.Dense(256, activation='relu', input_shape =(X_train.shape[1],)))\n",
    "# model.add(layers.Dense(256, activation='relu'))\n",
    "\n",
    "model.add(BatchNormalization())\n",
    "model.add(Dropout(0.50))\n",
    "model.add(layers.Dense(128, activation='relu'))\n",
    "# model.add(layers.Dense(128, activation='relu'))\n",
    "model.add(BatchNormalization())\n",
    "# model.add(Dropout(0.2))\n",
    "model.add(layers.Dense(64, activation='relu'))\n",
    "# model.add(layers.Dense(64, activation='relu'))\n",
    "# model.add(Dropout(0.2))\n",
    "model.add(BatchNormalization())\n",
    "model.add(layers.Dense(32, activation='relu'))\n",
    "model.add(BatchNormalization())\n",
    "# model.add(layers.Dense(32, activation='relu'))\n",
    "model.add(layers.Dense(1, activation='sigmoid'))"
   ]
  },
  {
   "cell_type": "code",
   "execution_count": 46,
   "metadata": {},
   "outputs": [],
   "source": [
    "model.compile(optimizer='adam', metrics=['accuracy'], loss='binary_crossentropy')"
   ]
  },
  {
   "cell_type": "code",
   "execution_count": 47,
   "metadata": {},
   "outputs": [
    {
     "name": "stdout",
     "output_type": "stream",
     "text": [
      "Epoch 1/200\n",
      "32/32 [==============================] - 0s 11ms/step - loss: 0.2145 - accuracy: 0.9188 - val_loss: 6.2583e-04 - val_accuracy: 1.0000\n",
      "Epoch 2/200\n",
      "32/32 [==============================] - 0s 5ms/step - loss: 0.0467 - accuracy: 0.9966 - val_loss: 9.8333e-04 - val_accuracy: 1.0000\n",
      "Epoch 3/200\n",
      "32/32 [==============================] - 0s 6ms/step - loss: 0.0303 - accuracy: 0.9956 - val_loss: 0.0022 - val_accuracy: 0.9980\n",
      "Epoch 4/200\n",
      "32/32 [==============================] - 0s 7ms/step - loss: 0.0216 - accuracy: 0.9956 - val_loss: 0.0023 - val_accuracy: 0.9980\n",
      "Epoch 5/200\n",
      "32/32 [==============================] - 0s 6ms/step - loss: 0.0177 - accuracy: 0.9961 - val_loss: 0.0012 - val_accuracy: 1.0000\n",
      "Epoch 6/200\n",
      "32/32 [==============================] - 0s 6ms/step - loss: 0.0141 - accuracy: 0.9976 - val_loss: 0.0044 - val_accuracy: 0.9980\n",
      "Epoch 7/200\n",
      "32/32 [==============================] - 0s 6ms/step - loss: 0.0105 - accuracy: 0.9980 - val_loss: 0.0041 - val_accuracy: 0.9980\n",
      "Epoch 8/200\n",
      "32/32 [==============================] - 0s 6ms/step - loss: 0.0111 - accuracy: 0.9971 - val_loss: 0.0051 - val_accuracy: 0.9980\n",
      "Epoch 9/200\n",
      "32/32 [==============================] - 0s 6ms/step - loss: 0.0068 - accuracy: 0.9990 - val_loss: 0.0020 - val_accuracy: 0.9980\n",
      "Epoch 10/200\n",
      "32/32 [==============================] - 0s 6ms/step - loss: 0.0059 - accuracy: 1.0000 - val_loss: 0.0012 - val_accuracy: 1.0000\n",
      "Epoch 11/200\n",
      "32/32 [==============================] - 0s 6ms/step - loss: 0.0044 - accuracy: 0.9995 - val_loss: 0.0015 - val_accuracy: 0.9980\n",
      "Epoch 12/200\n",
      "32/32 [==============================] - 0s 6ms/step - loss: 0.0040 - accuracy: 1.0000 - val_loss: 2.8274e-04 - val_accuracy: 1.0000\n",
      "Epoch 13/200\n",
      "32/32 [==============================] - 0s 6ms/step - loss: 0.0029 - accuracy: 0.9995 - val_loss: 8.2766e-04 - val_accuracy: 1.0000\n",
      "Epoch 14/200\n",
      "32/32 [==============================] - 0s 6ms/step - loss: 0.0025 - accuracy: 1.0000 - val_loss: 0.0025 - val_accuracy: 0.9980\n",
      "Epoch 15/200\n",
      "32/32 [==============================] - 0s 6ms/step - loss: 0.0021 - accuracy: 1.0000 - val_loss: 0.0050 - val_accuracy: 0.9980\n",
      "Epoch 16/200\n",
      "32/32 [==============================] - 0s 6ms/step - loss: 0.0035 - accuracy: 0.9990 - val_loss: 0.0125 - val_accuracy: 0.9961\n",
      "Epoch 17/200\n",
      "32/32 [==============================] - 0s 6ms/step - loss: 0.0023 - accuracy: 1.0000 - val_loss: 0.0157 - val_accuracy: 0.9961\n",
      "Epoch 18/200\n",
      "32/32 [==============================] - 0s 6ms/step - loss: 0.0071 - accuracy: 0.9985 - val_loss: 0.0085 - val_accuracy: 0.9980\n",
      "Epoch 19/200\n",
      "32/32 [==============================] - 0s 6ms/step - loss: 0.0048 - accuracy: 0.9985 - val_loss: 0.0081 - val_accuracy: 0.9980\n",
      "Epoch 20/200\n",
      "32/32 [==============================] - 0s 6ms/step - loss: 0.0036 - accuracy: 0.9995 - val_loss: 0.0040 - val_accuracy: 0.9980\n",
      "Epoch 21/200\n",
      "32/32 [==============================] - 0s 6ms/step - loss: 0.0033 - accuracy: 0.9995 - val_loss: 0.0068 - val_accuracy: 0.9980\n",
      "Epoch 22/200\n",
      "32/32 [==============================] - 0s 6ms/step - loss: 0.0039 - accuracy: 0.9985 - val_loss: 0.0044 - val_accuracy: 0.9980\n",
      "Epoch 23/200\n",
      "32/32 [==============================] - 0s 6ms/step - loss: 0.0126 - accuracy: 0.9956 - val_loss: 0.0075 - val_accuracy: 0.9980\n",
      "Epoch 24/200\n",
      "32/32 [==============================] - 0s 6ms/step - loss: 0.0069 - accuracy: 0.9980 - val_loss: 0.0126 - val_accuracy: 0.9980\n",
      "Epoch 25/200\n",
      "32/32 [==============================] - 0s 6ms/step - loss: 0.0058 - accuracy: 0.9985 - val_loss: 0.0140 - val_accuracy: 0.9980\n",
      "Epoch 26/200\n",
      "32/32 [==============================] - 0s 6ms/step - loss: 0.0146 - accuracy: 0.9966 - val_loss: 0.0040 - val_accuracy: 0.9980\n",
      "Epoch 27/200\n",
      "32/32 [==============================] - 0s 6ms/step - loss: 0.0206 - accuracy: 0.9932 - val_loss: 6.5583e-04 - val_accuracy: 1.0000\n",
      "Epoch 28/200\n",
      "32/32 [==============================] - 0s 6ms/step - loss: 0.0104 - accuracy: 0.9966 - val_loss: 0.0027 - val_accuracy: 0.9980\n",
      "Epoch 29/200\n",
      "32/32 [==============================] - 0s 6ms/step - loss: 0.0026 - accuracy: 1.0000 - val_loss: 0.0105 - val_accuracy: 0.9980\n",
      "Epoch 30/200\n",
      "32/32 [==============================] - 0s 6ms/step - loss: 0.0026 - accuracy: 0.9995 - val_loss: 0.0101 - val_accuracy: 0.9980\n",
      "Epoch 31/200\n",
      "32/32 [==============================] - 0s 6ms/step - loss: 0.0065 - accuracy: 0.9990 - val_loss: 0.0057 - val_accuracy: 0.9980\n",
      "Epoch 32/200\n",
      "32/32 [==============================] - 0s 6ms/step - loss: 0.0019 - accuracy: 1.0000 - val_loss: 0.0057 - val_accuracy: 0.9980\n",
      "Epoch 33/200\n",
      "32/32 [==============================] - 0s 8ms/step - loss: 0.0026 - accuracy: 0.9995 - val_loss: 0.0128 - val_accuracy: 0.9980\n",
      "Epoch 34/200\n",
      "32/32 [==============================] - 0s 7ms/step - loss: 0.0090 - accuracy: 0.9980 - val_loss: 0.0039 - val_accuracy: 0.9980\n",
      "Epoch 35/200\n",
      "32/32 [==============================] - 0s 7ms/step - loss: 0.0065 - accuracy: 0.9971 - val_loss: 0.0139 - val_accuracy: 0.9961\n",
      "Epoch 36/200\n",
      "32/32 [==============================] - 0s 7ms/step - loss: 0.0025 - accuracy: 0.9995 - val_loss: 0.0103 - val_accuracy: 0.9961\n",
      "Epoch 37/200\n",
      "32/32 [==============================] - 0s 6ms/step - loss: 0.0034 - accuracy: 0.9985 - val_loss: 0.0109 - val_accuracy: 0.9980\n",
      "Epoch 38/200\n",
      "32/32 [==============================] - 0s 6ms/step - loss: 0.0026 - accuracy: 0.9990 - val_loss: 0.0073 - val_accuracy: 0.9980\n",
      "Epoch 39/200\n",
      "32/32 [==============================] - 0s 6ms/step - loss: 0.0037 - accuracy: 0.9976 - val_loss: 3.5668e-04 - val_accuracy: 1.0000\n",
      "Epoch 40/200\n",
      "32/32 [==============================] - 0s 6ms/step - loss: 0.0028 - accuracy: 0.9990 - val_loss: 1.8410e-04 - val_accuracy: 1.0000\n",
      "Epoch 41/200\n",
      "32/32 [==============================] - 0s 7ms/step - loss: 0.0013 - accuracy: 0.9995 - val_loss: 7.8723e-04 - val_accuracy: 1.0000\n",
      "Epoch 42/200\n",
      "32/32 [==============================] - 0s 6ms/step - loss: 6.9301e-04 - accuracy: 1.0000 - val_loss: 5.9029e-04 - val_accuracy: 1.0000\n",
      "Epoch 43/200\n",
      "32/32 [==============================] - 0s 6ms/step - loss: 0.0015 - accuracy: 0.9995 - val_loss: 0.0025 - val_accuracy: 0.9980\n",
      "Epoch 44/200\n",
      "32/32 [==============================] - 0s 7ms/step - loss: 0.0027 - accuracy: 0.9990 - val_loss: 0.0029 - val_accuracy: 0.9980\n",
      "Epoch 45/200\n",
      "32/32 [==============================] - 0s 8ms/step - loss: 0.0024 - accuracy: 0.9995 - val_loss: 0.0073 - val_accuracy: 0.9980\n",
      "Epoch 46/200\n",
      "32/32 [==============================] - 0s 6ms/step - loss: 0.0037 - accuracy: 0.9990 - val_loss: 2.5495e-04 - val_accuracy: 1.0000\n",
      "Epoch 47/200\n",
      "32/32 [==============================] - 0s 6ms/step - loss: 0.0016 - accuracy: 0.9990 - val_loss: 3.0608e-05 - val_accuracy: 1.0000\n",
      "Epoch 48/200\n",
      "32/32 [==============================] - 0s 7ms/step - loss: 0.0010 - accuracy: 0.9995 - val_loss: 3.9214e-05 - val_accuracy: 1.0000\n",
      "Epoch 49/200\n",
      "32/32 [==============================] - 0s 6ms/step - loss: 0.0057 - accuracy: 0.9990 - val_loss: 0.0048 - val_accuracy: 0.9980\n",
      "Epoch 50/200\n",
      "32/32 [==============================] - 0s 6ms/step - loss: 0.0013 - accuracy: 0.9995 - val_loss: 0.0025 - val_accuracy: 0.9980\n",
      "Epoch 51/200\n",
      "32/32 [==============================] - 0s 6ms/step - loss: 0.0022 - accuracy: 0.9995 - val_loss: 0.0028 - val_accuracy: 0.9980\n",
      "Epoch 52/200\n",
      "32/32 [==============================] - 0s 7ms/step - loss: 0.0034 - accuracy: 0.9980 - val_loss: 0.0010 - val_accuracy: 1.0000\n",
      "Epoch 53/200\n",
      "32/32 [==============================] - 0s 6ms/step - loss: 0.0018 - accuracy: 0.9995 - val_loss: 0.0074 - val_accuracy: 0.9980\n",
      "Epoch 54/200\n",
      "32/32 [==============================] - 0s 6ms/step - loss: 0.0023 - accuracy: 0.9995 - val_loss: 0.0170 - val_accuracy: 0.9980\n",
      "Epoch 55/200\n",
      "32/32 [==============================] - 0s 6ms/step - loss: 0.0017 - accuracy: 0.9995 - val_loss: 0.0113 - val_accuracy: 0.9980\n",
      "Epoch 56/200\n",
      "32/32 [==============================] - 0s 6ms/step - loss: 0.0011 - accuracy: 0.9995 - val_loss: 0.0214 - val_accuracy: 0.9980\n",
      "Epoch 57/200\n",
      "32/32 [==============================] - 0s 6ms/step - loss: 0.0026 - accuracy: 0.9990 - val_loss: 0.0255 - val_accuracy: 0.9961\n",
      "Epoch 58/200\n"
     ]
    },
    {
     "name": "stdout",
     "output_type": "stream",
     "text": [
      "32/32 [==============================] - 0s 6ms/step - loss: 0.0026 - accuracy: 0.9990 - val_loss: 0.0373 - val_accuracy: 0.9961\n",
      "Epoch 59/200\n",
      "32/32 [==============================] - 0s 6ms/step - loss: 0.0021 - accuracy: 0.9990 - val_loss: 0.0275 - val_accuracy: 0.9961\n",
      "Epoch 60/200\n",
      "32/32 [==============================] - 0s 6ms/step - loss: 0.0033 - accuracy: 0.9985 - val_loss: 0.0197 - val_accuracy: 0.9961\n",
      "Epoch 61/200\n",
      "32/32 [==============================] - 0s 7ms/step - loss: 0.0026 - accuracy: 0.9995 - val_loss: 0.0081 - val_accuracy: 0.9980\n",
      "Epoch 62/200\n",
      "32/32 [==============================] - 0s 6ms/step - loss: 0.0013 - accuracy: 0.9995 - val_loss: 0.0081 - val_accuracy: 0.9980\n",
      "Epoch 63/200\n",
      "32/32 [==============================] - 0s 6ms/step - loss: 0.0012 - accuracy: 0.9995 - val_loss: 0.0059 - val_accuracy: 0.9980\n",
      "Epoch 64/200\n",
      "32/32 [==============================] - 0s 6ms/step - loss: 0.0015 - accuracy: 0.9995 - val_loss: 0.0103 - val_accuracy: 0.9961\n",
      "Epoch 65/200\n",
      "32/32 [==============================] - 0s 6ms/step - loss: 0.0021 - accuracy: 0.9990 - val_loss: 0.0097 - val_accuracy: 0.9961\n",
      "Epoch 66/200\n",
      "32/32 [==============================] - 0s 6ms/step - loss: 0.0042 - accuracy: 0.9990 - val_loss: 0.0340 - val_accuracy: 0.9980\n",
      "Epoch 67/200\n",
      "32/32 [==============================] - 0s 6ms/step - loss: 0.0032 - accuracy: 0.9995 - val_loss: 0.0098 - val_accuracy: 0.9980\n",
      "Epoch 68/200\n",
      "32/32 [==============================] - 0s 7ms/step - loss: 0.0028 - accuracy: 0.9990 - val_loss: 0.0398 - val_accuracy: 0.9980\n",
      "Epoch 69/200\n",
      "32/32 [==============================] - 0s 6ms/step - loss: 0.0044 - accuracy: 0.9985 - val_loss: 0.0836 - val_accuracy: 0.9941\n",
      "Epoch 70/200\n",
      "32/32 [==============================] - 0s 6ms/step - loss: 2.6308e-04 - accuracy: 1.0000 - val_loss: 0.0798 - val_accuracy: 0.9941\n",
      "Epoch 71/200\n",
      "32/32 [==============================] - 0s 6ms/step - loss: 2.6471e-04 - accuracy: 1.0000 - val_loss: 0.0762 - val_accuracy: 0.9941\n",
      "Epoch 72/200\n",
      "32/32 [==============================] - 0s 6ms/step - loss: 0.0030 - accuracy: 0.9990 - val_loss: 0.0776 - val_accuracy: 0.9941\n",
      "Epoch 73/200\n",
      "32/32 [==============================] - 0s 6ms/step - loss: 0.0043 - accuracy: 0.9995 - val_loss: 0.1019 - val_accuracy: 0.9922\n",
      "Epoch 74/200\n",
      "32/32 [==============================] - 0s 6ms/step - loss: 0.0011 - accuracy: 0.9995 - val_loss: 0.1172 - val_accuracy: 0.9941\n",
      "Epoch 75/200\n",
      "32/32 [==============================] - 0s 6ms/step - loss: 4.4920e-04 - accuracy: 1.0000 - val_loss: 0.1201 - val_accuracy: 0.9922\n",
      "Epoch 76/200\n",
      "32/32 [==============================] - 0s 6ms/step - loss: 6.7044e-04 - accuracy: 0.9995 - val_loss: 0.0992 - val_accuracy: 0.9941\n",
      "Epoch 77/200\n",
      "32/32 [==============================] - 0s 6ms/step - loss: 1.8114e-04 - accuracy: 1.0000 - val_loss: 0.0984 - val_accuracy: 0.9941\n",
      "Epoch 78/200\n",
      "32/32 [==============================] - 0s 6ms/step - loss: 0.0010 - accuracy: 0.9995 - val_loss: 0.1300 - val_accuracy: 0.9941\n",
      "Epoch 79/200\n",
      "32/32 [==============================] - 0s 6ms/step - loss: 2.9385e-04 - accuracy: 1.0000 - val_loss: 0.1420 - val_accuracy: 0.9941\n",
      "Epoch 80/200\n",
      "32/32 [==============================] - 0s 6ms/step - loss: 2.8333e-04 - accuracy: 1.0000 - val_loss: 0.1306 - val_accuracy: 0.9941\n",
      "Epoch 81/200\n",
      "32/32 [==============================] - 0s 6ms/step - loss: 0.0014 - accuracy: 0.9990 - val_loss: 0.1452 - val_accuracy: 0.9941\n",
      "Epoch 82/200\n",
      "32/32 [==============================] - 0s 6ms/step - loss: 1.0769e-04 - accuracy: 1.0000 - val_loss: 0.1524 - val_accuracy: 0.9922\n",
      "Epoch 83/200\n",
      "32/32 [==============================] - 0s 6ms/step - loss: 1.3776e-04 - accuracy: 1.0000 - val_loss: 0.1516 - val_accuracy: 0.9922\n",
      "Epoch 84/200\n",
      "32/32 [==============================] - 0s 6ms/step - loss: 4.8467e-04 - accuracy: 1.0000 - val_loss: 0.1484 - val_accuracy: 0.9922\n",
      "Epoch 85/200\n",
      "32/32 [==============================] - 0s 6ms/step - loss: 5.0737e-04 - accuracy: 1.0000 - val_loss: 0.1475 - val_accuracy: 0.9922\n",
      "Epoch 86/200\n",
      "32/32 [==============================] - 0s 6ms/step - loss: 0.0019 - accuracy: 0.9995 - val_loss: 0.1506 - val_accuracy: 0.9922\n",
      "Epoch 87/200\n",
      "32/32 [==============================] - 0s 7ms/step - loss: 1.5253e-04 - accuracy: 1.0000 - val_loss: 0.1279 - val_accuracy: 0.9922\n",
      "Epoch 88/200\n",
      "32/32 [==============================] - 0s 6ms/step - loss: 0.0013 - accuracy: 0.9995 - val_loss: 0.1328 - val_accuracy: 0.9941\n",
      "Epoch 89/200\n",
      "32/32 [==============================] - 0s 6ms/step - loss: 0.0035 - accuracy: 0.9990 - val_loss: 0.1650 - val_accuracy: 0.9941\n",
      "Epoch 90/200\n",
      "32/32 [==============================] - 0s 6ms/step - loss: 1.9022e-04 - accuracy: 1.0000 - val_loss: 0.1481 - val_accuracy: 0.9941\n",
      "Epoch 91/200\n",
      "32/32 [==============================] - 0s 6ms/step - loss: 0.0011 - accuracy: 0.9995 - val_loss: 0.1589 - val_accuracy: 0.9941\n",
      "Epoch 92/200\n",
      "32/32 [==============================] - 0s 6ms/step - loss: 3.0440e-04 - accuracy: 1.0000 - val_loss: 0.1366 - val_accuracy: 0.9941\n",
      "Epoch 93/200\n",
      "32/32 [==============================] - 0s 6ms/step - loss: 2.8437e-04 - accuracy: 1.0000 - val_loss: 0.1401 - val_accuracy: 0.9941\n",
      "Epoch 94/200\n",
      "32/32 [==============================] - 0s 6ms/step - loss: 1.7050e-04 - accuracy: 1.0000 - val_loss: 0.1366 - val_accuracy: 0.9941\n",
      "Epoch 95/200\n",
      "32/32 [==============================] - 0s 6ms/step - loss: 1.5093e-04 - accuracy: 1.0000 - val_loss: 0.1389 - val_accuracy: 0.9941\n",
      "Epoch 96/200\n",
      "32/32 [==============================] - 0s 6ms/step - loss: 0.0064 - accuracy: 0.9985 - val_loss: 0.1000 - val_accuracy: 0.9941\n",
      "Epoch 97/200\n",
      "32/32 [==============================] - 0s 6ms/step - loss: 0.0057 - accuracy: 0.9976 - val_loss: 0.0342 - val_accuracy: 0.9980\n",
      "Epoch 98/200\n",
      "32/32 [==============================] - 0s 6ms/step - loss: 0.0043 - accuracy: 0.9976 - val_loss: 0.0769 - val_accuracy: 0.9980\n",
      "Epoch 99/200\n",
      "32/32 [==============================] - 0s 6ms/step - loss: 0.0034 - accuracy: 0.9995 - val_loss: 0.0722 - val_accuracy: 0.9980\n",
      "Epoch 100/200\n",
      "32/32 [==============================] - 0s 6ms/step - loss: 0.0022 - accuracy: 0.9985 - val_loss: 0.0595 - val_accuracy: 0.9980\n",
      "Epoch 101/200\n",
      "32/32 [==============================] - 0s 6ms/step - loss: 9.7248e-04 - accuracy: 0.9995 - val_loss: 0.0875 - val_accuracy: 0.9980\n",
      "Epoch 102/200\n",
      "32/32 [==============================] - 0s 6ms/step - loss: 0.0011 - accuracy: 0.9995 - val_loss: 0.1160 - val_accuracy: 0.9961\n",
      "Epoch 103/200\n",
      "32/32 [==============================] - 0s 6ms/step - loss: 0.0017 - accuracy: 0.9990 - val_loss: 0.1310 - val_accuracy: 0.9980\n",
      "Epoch 104/200\n",
      "32/32 [==============================] - 0s 6ms/step - loss: 8.6694e-04 - accuracy: 0.9995 - val_loss: 0.0921 - val_accuracy: 0.9980\n",
      "Epoch 105/200\n",
      "32/32 [==============================] - 0s 6ms/step - loss: 0.0041 - accuracy: 0.9995 - val_loss: 0.1064 - val_accuracy: 0.9980\n",
      "Epoch 106/200\n",
      "32/32 [==============================] - 0s 6ms/step - loss: 0.0024 - accuracy: 0.9990 - val_loss: 0.1400 - val_accuracy: 0.9980\n",
      "Epoch 107/200\n",
      "32/32 [==============================] - 0s 6ms/step - loss: 1.6619e-04 - accuracy: 1.0000 - val_loss: 0.1640 - val_accuracy: 0.9961\n",
      "Epoch 108/200\n",
      "32/32 [==============================] - 0s 6ms/step - loss: 1.3055e-04 - accuracy: 1.0000 - val_loss: 0.1557 - val_accuracy: 0.9961\n",
      "Epoch 109/200\n",
      "32/32 [==============================] - 0s 6ms/step - loss: 0.0015 - accuracy: 0.9995 - val_loss: 0.1376 - val_accuracy: 0.9961\n",
      "Epoch 110/200\n",
      "32/32 [==============================] - 0s 6ms/step - loss: 0.0018 - accuracy: 0.9995 - val_loss: 0.1348 - val_accuracy: 0.9961\n",
      "Epoch 111/200\n",
      "32/32 [==============================] - 0s 7ms/step - loss: 0.0010 - accuracy: 0.9995 - val_loss: 0.0790 - val_accuracy: 0.9980\n",
      "Epoch 112/200\n",
      "32/32 [==============================] - 0s 6ms/step - loss: 0.0041 - accuracy: 0.9995 - val_loss: 0.0719 - val_accuracy: 0.9980\n",
      "Epoch 113/200\n",
      "32/32 [==============================] - 0s 6ms/step - loss: 0.0050 - accuracy: 0.9990 - val_loss: 0.0215 - val_accuracy: 0.9961\n",
      "Epoch 114/200\n",
      "32/32 [==============================] - 0s 6ms/step - loss: 0.0062 - accuracy: 0.9985 - val_loss: 0.0678 - val_accuracy: 0.9980\n",
      "Epoch 115/200\n"
     ]
    },
    {
     "name": "stdout",
     "output_type": "stream",
     "text": [
      "32/32 [==============================] - 0s 6ms/step - loss: 5.2992e-04 - accuracy: 1.0000 - val_loss: 0.0269 - val_accuracy: 0.9980\n",
      "Epoch 116/200\n",
      "32/32 [==============================] - 0s 6ms/step - loss: 8.0049e-04 - accuracy: 0.9995 - val_loss: 0.0535 - val_accuracy: 0.9961\n",
      "Epoch 117/200\n",
      "32/32 [==============================] - 0s 6ms/step - loss: 0.0017 - accuracy: 0.9990 - val_loss: 0.0636 - val_accuracy: 0.9980\n",
      "Epoch 118/200\n",
      "32/32 [==============================] - 0s 6ms/step - loss: 0.0019 - accuracy: 0.9995 - val_loss: 0.0407 - val_accuracy: 0.9961\n",
      "Epoch 119/200\n",
      "32/32 [==============================] - 0s 6ms/step - loss: 2.8698e-04 - accuracy: 1.0000 - val_loss: 0.0324 - val_accuracy: 0.9961\n",
      "Epoch 120/200\n",
      "32/32 [==============================] - 0s 7ms/step - loss: 1.6973e-04 - accuracy: 1.0000 - val_loss: 0.0290 - val_accuracy: 0.9961\n",
      "Epoch 121/200\n",
      "32/32 [==============================] - 0s 7ms/step - loss: 5.5386e-04 - accuracy: 1.0000 - val_loss: 0.0289 - val_accuracy: 0.9961\n",
      "Epoch 122/200\n",
      "32/32 [==============================] - 0s 6ms/step - loss: 1.6028e-04 - accuracy: 1.0000 - val_loss: 0.0296 - val_accuracy: 0.9961\n",
      "Epoch 123/200\n",
      "32/32 [==============================] - 0s 6ms/step - loss: 9.8870e-04 - accuracy: 0.9995 - val_loss: 0.0192 - val_accuracy: 0.9961\n",
      "Epoch 124/200\n",
      "32/32 [==============================] - 0s 7ms/step - loss: 0.0018 - accuracy: 0.9990 - val_loss: 0.0399 - val_accuracy: 0.9961\n",
      "Epoch 125/200\n",
      "32/32 [==============================] - 0s 6ms/step - loss: 6.5327e-04 - accuracy: 1.0000 - val_loss: 0.0317 - val_accuracy: 0.9961\n",
      "Epoch 126/200\n",
      "32/32 [==============================] - 0s 6ms/step - loss: 1.7670e-04 - accuracy: 1.0000 - val_loss: 0.0264 - val_accuracy: 0.9980\n",
      "Epoch 127/200\n",
      "32/32 [==============================] - 0s 6ms/step - loss: 0.0036 - accuracy: 0.9990 - val_loss: 0.0183 - val_accuracy: 0.9980\n",
      "Epoch 128/200\n",
      "32/32 [==============================] - 0s 6ms/step - loss: 1.4946e-04 - accuracy: 1.0000 - val_loss: 3.6933e-04 - val_accuracy: 1.0000\n",
      "Epoch 129/200\n",
      "32/32 [==============================] - 0s 6ms/step - loss: 1.5872e-04 - accuracy: 1.0000 - val_loss: 5.6020e-04 - val_accuracy: 1.0000\n",
      "Epoch 130/200\n",
      "32/32 [==============================] - 0s 6ms/step - loss: 0.0036 - accuracy: 0.9995 - val_loss: 0.0138 - val_accuracy: 0.9980\n",
      "Epoch 131/200\n",
      "32/32 [==============================] - 0s 6ms/step - loss: 5.4490e-04 - accuracy: 0.9995 - val_loss: 0.0284 - val_accuracy: 0.9980\n",
      "Epoch 132/200\n",
      "32/32 [==============================] - 0s 6ms/step - loss: 7.9937e-04 - accuracy: 0.9995 - val_loss: 0.0554 - val_accuracy: 0.9980\n",
      "Epoch 133/200\n",
      "32/32 [==============================] - 0s 6ms/step - loss: 7.7916e-05 - accuracy: 1.0000 - val_loss: 0.0621 - val_accuracy: 0.9961\n",
      "Epoch 134/200\n",
      "32/32 [==============================] - 0s 6ms/step - loss: 8.5974e-04 - accuracy: 0.9995 - val_loss: 0.0575 - val_accuracy: 0.9961\n",
      "Epoch 135/200\n",
      "32/32 [==============================] - 0s 6ms/step - loss: 8.1370e-04 - accuracy: 0.9995 - val_loss: 0.0766 - val_accuracy: 0.9961\n",
      "Epoch 136/200\n",
      "32/32 [==============================] - 0s 5ms/step - loss: 0.0040 - accuracy: 0.9985 - val_loss: 0.0991 - val_accuracy: 0.9961\n",
      "Epoch 137/200\n",
      "32/32 [==============================] - 0s 6ms/step - loss: 1.5165e-04 - accuracy: 1.0000 - val_loss: 0.1305 - val_accuracy: 0.9961\n",
      "Epoch 138/200\n",
      "32/32 [==============================] - 0s 7ms/step - loss: 0.0029 - accuracy: 0.9985 - val_loss: 0.1844 - val_accuracy: 0.9961\n",
      "Epoch 139/200\n",
      "32/32 [==============================] - 0s 6ms/step - loss: 4.0937e-04 - accuracy: 1.0000 - val_loss: 0.1678 - val_accuracy: 0.9961\n",
      "Epoch 140/200\n",
      "32/32 [==============================] - 0s 6ms/step - loss: 2.7290e-04 - accuracy: 1.0000 - val_loss: 0.1768 - val_accuracy: 0.9961\n",
      "Epoch 141/200\n",
      "32/32 [==============================] - 0s 6ms/step - loss: 1.0052e-04 - accuracy: 1.0000 - val_loss: 0.1749 - val_accuracy: 0.9961\n",
      "Epoch 142/200\n",
      "32/32 [==============================] - 0s 6ms/step - loss: 5.4281e-05 - accuracy: 1.0000 - val_loss: 0.1777 - val_accuracy: 0.9961\n",
      "Epoch 143/200\n",
      "32/32 [==============================] - 0s 6ms/step - loss: 7.9187e-04 - accuracy: 0.9995 - val_loss: 0.2334 - val_accuracy: 0.9941\n",
      "Epoch 144/200\n",
      "32/32 [==============================] - 0s 6ms/step - loss: 0.0025 - accuracy: 0.9995 - val_loss: 0.2286 - val_accuracy: 0.9941\n",
      "Epoch 145/200\n",
      "32/32 [==============================] - 0s 6ms/step - loss: 0.0016 - accuracy: 0.9995 - val_loss: 0.2322 - val_accuracy: 0.9961\n",
      "Epoch 146/200\n",
      "32/32 [==============================] - 0s 7ms/step - loss: 0.0020 - accuracy: 0.9995 - val_loss: 0.2125 - val_accuracy: 0.9961\n",
      "Epoch 147/200\n",
      "32/32 [==============================] - 0s 6ms/step - loss: 1.0021e-04 - accuracy: 1.0000 - val_loss: 0.1891 - val_accuracy: 0.9961\n",
      "Epoch 148/200\n",
      "32/32 [==============================] - 0s 6ms/step - loss: 3.5911e-04 - accuracy: 1.0000 - val_loss: 0.2101 - val_accuracy: 0.9961\n",
      "Epoch 149/200\n",
      "32/32 [==============================] - 0s 6ms/step - loss: 1.2115e-04 - accuracy: 1.0000 - val_loss: 0.1999 - val_accuracy: 0.9961\n",
      "Epoch 150/200\n",
      "32/32 [==============================] - 0s 7ms/step - loss: 1.0006e-04 - accuracy: 1.0000 - val_loss: 0.1865 - val_accuracy: 0.9961\n",
      "Epoch 151/200\n",
      "32/32 [==============================] - 0s 6ms/step - loss: 7.9219e-05 - accuracy: 1.0000 - val_loss: 0.1818 - val_accuracy: 0.9961\n",
      "Epoch 152/200\n",
      "32/32 [==============================] - 0s 6ms/step - loss: 4.9287e-05 - accuracy: 1.0000 - val_loss: 0.1786 - val_accuracy: 0.9961\n",
      "Epoch 153/200\n",
      "32/32 [==============================] - 0s 6ms/step - loss: 1.7461e-04 - accuracy: 1.0000 - val_loss: 0.1745 - val_accuracy: 0.9961\n",
      "Epoch 154/200\n",
      "32/32 [==============================] - 0s 6ms/step - loss: 6.7199e-05 - accuracy: 1.0000 - val_loss: 0.1542 - val_accuracy: 0.9961\n",
      "Epoch 155/200\n",
      "32/32 [==============================] - 0s 6ms/step - loss: 5.7327e-05 - accuracy: 1.0000 - val_loss: 0.1542 - val_accuracy: 0.9961\n",
      "Epoch 156/200\n",
      "32/32 [==============================] - 0s 6ms/step - loss: 3.9112e-05 - accuracy: 1.0000 - val_loss: 0.1538 - val_accuracy: 0.9961\n",
      "Epoch 157/200\n",
      "32/32 [==============================] - 0s 6ms/step - loss: 7.9691e-05 - accuracy: 1.0000 - val_loss: 0.1521 - val_accuracy: 0.9961\n",
      "Epoch 158/200\n",
      "32/32 [==============================] - 0s 6ms/step - loss: 5.2393e-05 - accuracy: 1.0000 - val_loss: 0.1536 - val_accuracy: 0.9961\n",
      "Epoch 159/200\n",
      "32/32 [==============================] - 0s 6ms/step - loss: 7.1641e-05 - accuracy: 1.0000 - val_loss: 0.1511 - val_accuracy: 0.9961\n",
      "Epoch 160/200\n",
      "32/32 [==============================] - 0s 6ms/step - loss: 5.0902e-04 - accuracy: 1.0000 - val_loss: 0.1722 - val_accuracy: 0.9961\n",
      "Epoch 161/200\n",
      "32/32 [==============================] - 0s 6ms/step - loss: 4.1225e-05 - accuracy: 1.0000 - val_loss: 0.1809 - val_accuracy: 0.9961\n",
      "Epoch 162/200\n",
      "32/32 [==============================] - 0s 6ms/step - loss: 7.2840e-05 - accuracy: 1.0000 - val_loss: 0.1848 - val_accuracy: 0.9961\n",
      "Epoch 163/200\n",
      "32/32 [==============================] - 0s 6ms/step - loss: 6.7966e-04 - accuracy: 0.9995 - val_loss: 0.1885 - val_accuracy: 0.9961\n",
      "Epoch 164/200\n",
      "32/32 [==============================] - 0s 6ms/step - loss: 0.0022 - accuracy: 0.9995 - val_loss: 0.1669 - val_accuracy: 0.9961\n",
      "Epoch 165/200\n",
      "32/32 [==============================] - 0s 6ms/step - loss: 5.5761e-05 - accuracy: 1.0000 - val_loss: 0.1660 - val_accuracy: 0.9961\n",
      "Epoch 166/200\n",
      "32/32 [==============================] - 0s 6ms/step - loss: 2.0143e-04 - accuracy: 1.0000 - val_loss: 0.1744 - val_accuracy: 0.9961\n",
      "Epoch 167/200\n",
      "32/32 [==============================] - 0s 6ms/step - loss: 3.3697e-04 - accuracy: 1.0000 - val_loss: 0.1767 - val_accuracy: 0.9961\n",
      "Epoch 168/200\n",
      "32/32 [==============================] - 0s 6ms/step - loss: 6.1238e-04 - accuracy: 0.9995 - val_loss: 0.2131 - val_accuracy: 0.9961\n",
      "Epoch 169/200\n",
      "32/32 [==============================] - 0s 6ms/step - loss: 4.5579e-05 - accuracy: 1.0000 - val_loss: 0.2167 - val_accuracy: 0.9961\n",
      "Epoch 170/200\n",
      "32/32 [==============================] - 0s 6ms/step - loss: 5.9999e-05 - accuracy: 1.0000 - val_loss: 0.2140 - val_accuracy: 0.9961\n",
      "Epoch 171/200\n"
     ]
    },
    {
     "name": "stdout",
     "output_type": "stream",
     "text": [
      "32/32 [==============================] - 0s 7ms/step - loss: 1.8259e-04 - accuracy: 1.0000 - val_loss: 0.1877 - val_accuracy: 0.9961\n",
      "Epoch 172/200\n",
      "32/32 [==============================] - 0s 6ms/step - loss: 6.6525e-05 - accuracy: 1.0000 - val_loss: 0.1804 - val_accuracy: 0.9961\n",
      "Epoch 173/200\n",
      "32/32 [==============================] - 0s 6ms/step - loss: 4.0607e-05 - accuracy: 1.0000 - val_loss: 0.1753 - val_accuracy: 0.9961\n",
      "Epoch 174/200\n",
      "32/32 [==============================] - 0s 6ms/step - loss: 5.7400e-05 - accuracy: 1.0000 - val_loss: 0.1751 - val_accuracy: 0.9961\n",
      "Epoch 175/200\n",
      "32/32 [==============================] - 0s 7ms/step - loss: 8.2689e-05 - accuracy: 1.0000 - val_loss: 0.1871 - val_accuracy: 0.9961\n",
      "Epoch 176/200\n",
      "32/32 [==============================] - 0s 6ms/step - loss: 2.0661e-05 - accuracy: 1.0000 - val_loss: 0.1864 - val_accuracy: 0.9961\n",
      "Epoch 177/200\n",
      "32/32 [==============================] - 0s 6ms/step - loss: 1.9755e-05 - accuracy: 1.0000 - val_loss: 0.1878 - val_accuracy: 0.9961\n",
      "Epoch 178/200\n",
      "32/32 [==============================] - 0s 6ms/step - loss: 1.1570e-04 - accuracy: 1.0000 - val_loss: 0.1826 - val_accuracy: 0.9961\n",
      "Epoch 179/200\n",
      "32/32 [==============================] - 0s 6ms/step - loss: 4.0920e-04 - accuracy: 0.9995 - val_loss: 0.2117 - val_accuracy: 0.9961\n",
      "Epoch 180/200\n",
      "32/32 [==============================] - 0s 6ms/step - loss: 2.6270e-04 - accuracy: 1.0000 - val_loss: 0.2056 - val_accuracy: 0.9961\n",
      "Epoch 181/200\n",
      "32/32 [==============================] - 0s 6ms/step - loss: 1.0095e-04 - accuracy: 1.0000 - val_loss: 0.2310 - val_accuracy: 0.9961\n",
      "Epoch 182/200\n",
      "32/32 [==============================] - 0s 6ms/step - loss: 4.9984e-05 - accuracy: 1.0000 - val_loss: 0.2307 - val_accuracy: 0.9961\n",
      "Epoch 183/200\n",
      "32/32 [==============================] - 0s 6ms/step - loss: 4.9574e-04 - accuracy: 0.9995 - val_loss: 0.2688 - val_accuracy: 0.9961\n",
      "Epoch 184/200\n",
      "32/32 [==============================] - 0s 6ms/step - loss: 2.2788e-04 - accuracy: 1.0000 - val_loss: 0.2292 - val_accuracy: 0.9961\n",
      "Epoch 185/200\n",
      "32/32 [==============================] - 0s 6ms/step - loss: 2.6641e-05 - accuracy: 1.0000 - val_loss: 0.2255 - val_accuracy: 0.9961\n",
      "Epoch 186/200\n",
      "32/32 [==============================] - 0s 6ms/step - loss: 4.5707e-05 - accuracy: 1.0000 - val_loss: 0.2249 - val_accuracy: 0.9961\n",
      "Epoch 187/200\n",
      "32/32 [==============================] - 0s 6ms/step - loss: 2.2267e-05 - accuracy: 1.0000 - val_loss: 0.2215 - val_accuracy: 0.9961\n",
      "Epoch 188/200\n",
      "32/32 [==============================] - 0s 6ms/step - loss: 1.5822e-05 - accuracy: 1.0000 - val_loss: 0.2222 - val_accuracy: 0.9961\n",
      "Epoch 189/200\n",
      "32/32 [==============================] - 0s 7ms/step - loss: 1.1564e-04 - accuracy: 1.0000 - val_loss: 0.2279 - val_accuracy: 0.9961\n",
      "Epoch 190/200\n",
      "32/32 [==============================] - 0s 6ms/step - loss: 8.2576e-05 - accuracy: 1.0000 - val_loss: 0.2218 - val_accuracy: 0.9961\n",
      "Epoch 191/200\n",
      "32/32 [==============================] - 0s 6ms/step - loss: 3.1320e-05 - accuracy: 1.0000 - val_loss: 0.2167 - val_accuracy: 0.9961\n",
      "Epoch 192/200\n",
      "32/32 [==============================] - 0s 6ms/step - loss: 2.7614e-05 - accuracy: 1.0000 - val_loss: 0.2182 - val_accuracy: 0.9961\n",
      "Epoch 193/200\n",
      "32/32 [==============================] - 0s 6ms/step - loss: 1.5754e-05 - accuracy: 1.0000 - val_loss: 0.2197 - val_accuracy: 0.9961\n",
      "Epoch 194/200\n",
      "32/32 [==============================] - 0s 6ms/step - loss: 3.0822e-04 - accuracy: 1.0000 - val_loss: 0.2473 - val_accuracy: 0.9961\n",
      "Epoch 195/200\n",
      "32/32 [==============================] - 0s 6ms/step - loss: 1.3339e-04 - accuracy: 1.0000 - val_loss: 0.2086 - val_accuracy: 0.9961\n",
      "Epoch 196/200\n",
      "32/32 [==============================] - 0s 7ms/step - loss: 0.0047 - accuracy: 0.9990 - val_loss: 0.0430 - val_accuracy: 0.9961\n",
      "Epoch 197/200\n",
      "32/32 [==============================] - 0s 6ms/step - loss: 0.0105 - accuracy: 0.9976 - val_loss: 0.1490 - val_accuracy: 0.9961\n",
      "Epoch 198/200\n",
      "32/32 [==============================] - 0s 7ms/step - loss: 5.3040e-04 - accuracy: 1.0000 - val_loss: 0.1463 - val_accuracy: 0.9961\n",
      "Epoch 199/200\n",
      "32/32 [==============================] - 0s 6ms/step - loss: 8.8183e-05 - accuracy: 1.0000 - val_loss: 0.1364 - val_accuracy: 0.9961\n",
      "Epoch 200/200\n",
      "32/32 [==============================] - 0s 6ms/step - loss: 0.0036 - accuracy: 0.9990 - val_loss: 0.1603 - val_accuracy: 0.9961\n"
     ]
    }
   ],
   "source": [
    "history  = model.fit(X_train,np.array(np.array(y_train).reshape((len(y_train),1))), epochs=200, batch_size=64, validation_split=0.2)"
   ]
  },
  {
   "cell_type": "code",
   "execution_count": 48,
   "metadata": {},
   "outputs": [
    {
     "name": "stdout",
     "output_type": "stream",
     "text": [
      "dict_keys(['loss', 'accuracy', 'val_loss', 'val_accuracy'])\n"
     ]
    }
   ],
   "source": [
    "print(history.history.keys())"
   ]
  },
  {
   "cell_type": "code",
   "execution_count": 49,
   "metadata": {
    "scrolled": false
   },
   "outputs": [
    {
     "data": {
      "image/png": "[encoded data removed]",
      "text/plain": [
       "<Figure size 720x720 with 1 Axes>"
      ]
     },
     "metadata": {
      "needs_background": "light"
     },
     "output_type": "display_data"
    }
   ],
   "source": [
    "plt.figure(figsize=(10,10))\n",
    "plt.plot(history.history[\"accuracy\"])\n",
    "plt.plot(history.history[\"val_accuracy\"])\n",
    "plt.xlabel(\"Epochs\")\n",
    "plt.ylabel(\"Accuracy\")\n",
    "plt.legend([\"train\", \"test\"], loc=\"upper left\")\n",
    "plt.show()"
   ]
  },
  {
   "cell_type": "markdown",
   "metadata": {},
   "source": [
    "## 1D ConvNet "
   ]
  },
  {
   "cell_type": "code",
   "execution_count": 52,
   "metadata": {},
   "outputs": [],
   "source": [
    "cnn_model = models.Sequential()\n",
    "\n",
    "cnn_model.add(layers.Conv1D(128, (3), activation='relu', input_shape=(X_train.shape[1],1)))\n",
    "cnn_model.add(Dropout(0.15))\n",
    "cnn_model.add(layers.MaxPool1D(2))\n",
    "cnn_model.add(layers.Conv1D(64, (3), activation='relu'))\n",
    "cnn_model.add(Dropout(0.15))\n",
    "cnn_model.add(layers.MaxPool1D(2))\n",
    "cnn_model.add(layers.Flatten())\n",
    "cnn_model.add(layers.Dense(32, activation='relu'))\n",
    "cnn_model.add(Dropout(0.15))\n",
    "cnn_model.add(layers.Dense(1, activation='sigmoid'))"
   ]
  },
  {
   "cell_type": "code",
   "execution_count": 53,
   "metadata": {},
   "outputs": [],
   "source": [
    "cnn_model.compile(optimizer='adam', metrics=['accuracy'], loss='binary_crossentropy')"
   ]
  },
  {
   "cell_type": "code",
   "execution_count": 54,
   "metadata": {},
   "outputs": [
    {
     "name": "stdout",
     "output_type": "stream",
     "text": [
      "Epoch 1/100\n"
     ]
    },
    {
     "ename": "ValueError",
     "evalue": "in user code:\n\n    /home/ridhima/Documents/Github/Voicenet/voicenet_venv/lib/python3.7/site-packages/tensorflow/python/keras/engine/training.py:571 train_function  *\n        outputs = self.distribute_strategy.run(\n    /home/ridhima/Documents/Github/Voicenet/voicenet_venv/lib/python3.7/site-packages/tensorflow/python/distribute/distribute_lib.py:951 run  **\n        return self._extended.call_for_each_replica(fn, args=args, kwargs=kwargs)\n    /home/ridhima/Documents/Github/Voicenet/voicenet_venv/lib/python3.7/site-packages/tensorflow/python/distribute/distribute_lib.py:2290 call_for_each_replica\n        return self._call_for_each_replica(fn, args, kwargs)\n    /home/ridhima/Documents/Github/Voicenet/voicenet_venv/lib/python3.7/site-packages/tensorflow/python/distribute/distribute_lib.py:2649 _call_for_each_replica\n        return fn(*args, **kwargs)\n    /home/ridhima/Documents/Github/Voicenet/voicenet_venv/lib/python3.7/site-packages/tensorflow/python/keras/engine/training.py:531 train_step  **\n        y_pred = self(x, training=True)\n    /home/ridhima/Documents/Github/Voicenet/voicenet_venv/lib/python3.7/site-packages/tensorflow/python/keras/engine/base_layer.py:886 __call__\n        self.name)\n    /home/ridhima/Documents/Github/Voicenet/voicenet_venv/lib/python3.7/site-packages/tensorflow/python/keras/engine/input_spec.py:180 assert_input_compatibility\n        str(x.shape.as_list()))\n\n    ValueError: Input 0 of layer sequential_5 is incompatible with the layer: expected ndim=3, found ndim=2. Full shape received: [None, 1521]\n",
     "output_type": "error",
     "traceback": [
      "\u001b[0;31m---------------------------------------------------------------------------\u001b[0m",
      "\u001b[0;31mValueError\u001b[0m                                Traceback (most recent call last)",
      "\u001b[0;32m<ipython-input-54-836855756ac0>\u001b[0m in \u001b[0;36m<module>\u001b[0;34m\u001b[0m\n\u001b[0;32m----> 1\u001b[0;31m \u001b[0mhistory\u001b[0m  \u001b[0;34m=\u001b[0m \u001b[0mcnn_model\u001b[0m\u001b[0;34m.\u001b[0m\u001b[0mfit\u001b[0m\u001b[0;34m(\u001b[0m\u001b[0mX_train\u001b[0m\u001b[0;34m,\u001b[0m\u001b[0mnp\u001b[0m\u001b[0;34m.\u001b[0m\u001b[0marray\u001b[0m\u001b[0;34m(\u001b[0m\u001b[0mnp\u001b[0m\u001b[0;34m.\u001b[0m\u001b[0marray\u001b[0m\u001b[0;34m(\u001b[0m\u001b[0my_train\u001b[0m\u001b[0;34m)\u001b[0m\u001b[0;34m.\u001b[0m\u001b[0mreshape\u001b[0m\u001b[0;34m(\u001b[0m\u001b[0;34m(\u001b[0m\u001b[0mlen\u001b[0m\u001b[0;34m(\u001b[0m\u001b[0my_train\u001b[0m\u001b[0;34m)\u001b[0m\u001b[0;34m,\u001b[0m\u001b[0;36m1\u001b[0m\u001b[0;34m)\u001b[0m\u001b[0;34m)\u001b[0m\u001b[0;34m)\u001b[0m\u001b[0;34m,\u001b[0m \u001b[0mepochs\u001b[0m\u001b[0;34m=\u001b[0m\u001b[0;36m100\u001b[0m\u001b[0;34m,\u001b[0m \u001b[0mvalidation_split\u001b[0m\u001b[0;34m=\u001b[0m\u001b[0;36m0.2\u001b[0m\u001b[0;34m)\u001b[0m\u001b[0;34m\u001b[0m\u001b[0;34m\u001b[0m\u001b[0m\n\u001b[0m",
      "\u001b[0;32m~/Documents/Github/Voicenet/voicenet_venv/lib/python3.7/site-packages/tensorflow/python/keras/engine/training.py\u001b[0m in \u001b[0;36m_method_wrapper\u001b[0;34m(self, *args, **kwargs)\u001b[0m\n\u001b[1;32m     64\u001b[0m   \u001b[0;32mdef\u001b[0m \u001b[0m_method_wrapper\u001b[0m\u001b[0;34m(\u001b[0m\u001b[0mself\u001b[0m\u001b[0;34m,\u001b[0m \u001b[0;34m*\u001b[0m\u001b[0margs\u001b[0m\u001b[0;34m,\u001b[0m \u001b[0;34m**\u001b[0m\u001b[0mkwargs\u001b[0m\u001b[0;34m)\u001b[0m\u001b[0;34m:\u001b[0m\u001b[0;34m\u001b[0m\u001b[0;34m\u001b[0m\u001b[0m\n\u001b[1;32m     65\u001b[0m     \u001b[0;32mif\u001b[0m \u001b[0;32mnot\u001b[0m \u001b[0mself\u001b[0m\u001b[0;34m.\u001b[0m\u001b[0m_in_multi_worker_mode\u001b[0m\u001b[0;34m(\u001b[0m\u001b[0;34m)\u001b[0m\u001b[0;34m:\u001b[0m  \u001b[0;31m# pylint: disable=protected-access\u001b[0m\u001b[0;34m\u001b[0m\u001b[0;34m\u001b[0m\u001b[0m\n\u001b[0;32m---> 66\u001b[0;31m       \u001b[0;32mreturn\u001b[0m \u001b[0mmethod\u001b[0m\u001b[0;34m(\u001b[0m\u001b[0mself\u001b[0m\u001b[0;34m,\u001b[0m \u001b[0;34m*\u001b[0m\u001b[0margs\u001b[0m\u001b[0;34m,\u001b[0m \u001b[0;34m**\u001b[0m\u001b[0mkwargs\u001b[0m\u001b[0;34m)\u001b[0m\u001b[0;34m\u001b[0m\u001b[0;34m\u001b[0m\u001b[0m\n\u001b[0m\u001b[1;32m     67\u001b[0m \u001b[0;34m\u001b[0m\u001b[0m\n\u001b[1;32m     68\u001b[0m     \u001b[0;31m# Running inside `run_distribute_coordinator` already.\u001b[0m\u001b[0;34m\u001b[0m\u001b[0;34m\u001b[0m\u001b[0;34m\u001b[0m\u001b[0m\n",
      "\u001b[0;32m~/Documents/Github/Voicenet/voicenet_venv/lib/python3.7/site-packages/tensorflow/python/keras/engine/training.py\u001b[0m in \u001b[0;36mfit\u001b[0;34m(self, x, y, batch_size, epochs, verbose, callbacks, validation_split, validation_data, shuffle, class_weight, sample_weight, initial_epoch, steps_per_epoch, validation_steps, validation_batch_size, validation_freq, max_queue_size, workers, use_multiprocessing)\u001b[0m\n\u001b[1;32m    846\u001b[0m                 batch_size=batch_size):\n\u001b[1;32m    847\u001b[0m               \u001b[0mcallbacks\u001b[0m\u001b[0;34m.\u001b[0m\u001b[0mon_train_batch_begin\u001b[0m\u001b[0;34m(\u001b[0m\u001b[0mstep\u001b[0m\u001b[0;34m)\u001b[0m\u001b[0;34m\u001b[0m\u001b[0;34m\u001b[0m\u001b[0m\n\u001b[0;32m--> 848\u001b[0;31m               \u001b[0mtmp_logs\u001b[0m \u001b[0;34m=\u001b[0m \u001b[0mtrain_function\u001b[0m\u001b[0;34m(\u001b[0m\u001b[0miterator\u001b[0m\u001b[0;34m)\u001b[0m\u001b[0;34m\u001b[0m\u001b[0;34m\u001b[0m\u001b[0m\n\u001b[0m\u001b[1;32m    849\u001b[0m               \u001b[0;31m# Catch OutOfRangeError for Datasets of unknown size.\u001b[0m\u001b[0;34m\u001b[0m\u001b[0;34m\u001b[0m\u001b[0;34m\u001b[0m\u001b[0m\n\u001b[1;32m    850\u001b[0m               \u001b[0;31m# This blocks until the batch has finished executing.\u001b[0m\u001b[0;34m\u001b[0m\u001b[0;34m\u001b[0m\u001b[0;34m\u001b[0m\u001b[0m\n",
      "\u001b[0;32m~/Documents/Github/Voicenet/voicenet_venv/lib/python3.7/site-packages/tensorflow/python/eager/def_function.py\u001b[0m in \u001b[0;36m__call__\u001b[0;34m(self, *args, **kwds)\u001b[0m\n\u001b[1;32m    578\u001b[0m         \u001b[0mxla_context\u001b[0m\u001b[0;34m.\u001b[0m\u001b[0mExit\u001b[0m\u001b[0;34m(\u001b[0m\u001b[0;34m)\u001b[0m\u001b[0;34m\u001b[0m\u001b[0;34m\u001b[0m\u001b[0m\n\u001b[1;32m    579\u001b[0m     \u001b[0;32melse\u001b[0m\u001b[0;34m:\u001b[0m\u001b[0;34m\u001b[0m\u001b[0;34m\u001b[0m\u001b[0m\n\u001b[0;32m--> 580\u001b[0;31m       \u001b[0mresult\u001b[0m \u001b[0;34m=\u001b[0m \u001b[0mself\u001b[0m\u001b[0;34m.\u001b[0m\u001b[0m_call\u001b[0m\u001b[0;34m(\u001b[0m\u001b[0;34m*\u001b[0m\u001b[0margs\u001b[0m\u001b[0;34m,\u001b[0m \u001b[0;34m**\u001b[0m\u001b[0mkwds\u001b[0m\u001b[0;34m)\u001b[0m\u001b[0;34m\u001b[0m\u001b[0;34m\u001b[0m\u001b[0m\n\u001b[0m\u001b[1;32m    581\u001b[0m \u001b[0;34m\u001b[0m\u001b[0m\n\u001b[1;32m    582\u001b[0m     \u001b[0;32mif\u001b[0m \u001b[0mtracing_count\u001b[0m \u001b[0;34m==\u001b[0m \u001b[0mself\u001b[0m\u001b[0;34m.\u001b[0m\u001b[0m_get_tracing_count\u001b[0m\u001b[0;34m(\u001b[0m\u001b[0;34m)\u001b[0m\u001b[0;34m:\u001b[0m\u001b[0;34m\u001b[0m\u001b[0;34m\u001b[0m\u001b[0m\n",
      "\u001b[0;32m~/Documents/Github/Voicenet/voicenet_venv/lib/python3.7/site-packages/tensorflow/python/eager/def_function.py\u001b[0m in \u001b[0;36m_call\u001b[0;34m(self, *args, **kwds)\u001b[0m\n\u001b[1;32m    625\u001b[0m       \u001b[0;31m# This is the first call of __call__, so we have to initialize.\u001b[0m\u001b[0;34m\u001b[0m\u001b[0;34m\u001b[0m\u001b[0;34m\u001b[0m\u001b[0m\n\u001b[1;32m    626\u001b[0m       \u001b[0minitializers\u001b[0m \u001b[0;34m=\u001b[0m \u001b[0;34m[\u001b[0m\u001b[0;34m]\u001b[0m\u001b[0;34m\u001b[0m\u001b[0;34m\u001b[0m\u001b[0m\n\u001b[0;32m--> 627\u001b[0;31m       \u001b[0mself\u001b[0m\u001b[0;34m.\u001b[0m\u001b[0m_initialize\u001b[0m\u001b[0;34m(\u001b[0m\u001b[0margs\u001b[0m\u001b[0;34m,\u001b[0m \u001b[0mkwds\u001b[0m\u001b[0;34m,\u001b[0m \u001b[0madd_initializers_to\u001b[0m\u001b[0;34m=\u001b[0m\u001b[0minitializers\u001b[0m\u001b[0;34m)\u001b[0m\u001b[0;34m\u001b[0m\u001b[0;34m\u001b[0m\u001b[0m\n\u001b[0m\u001b[1;32m    628\u001b[0m     \u001b[0;32mfinally\u001b[0m\u001b[0;34m:\u001b[0m\u001b[0;34m\u001b[0m\u001b[0;34m\u001b[0m\u001b[0m\n\u001b[1;32m    629\u001b[0m       \u001b[0;31m# At this point we know that the initialization is complete (or less\u001b[0m\u001b[0;34m\u001b[0m\u001b[0;34m\u001b[0m\u001b[0;34m\u001b[0m\u001b[0m\n",
      "\u001b[0;32m~/Documents/Github/Voicenet/voicenet_venv/lib/python3.7/site-packages/tensorflow/python/eager/def_function.py\u001b[0m in \u001b[0;36m_initialize\u001b[0;34m(self, args, kwds, add_initializers_to)\u001b[0m\n\u001b[1;32m    504\u001b[0m     self._concrete_stateful_fn = (\n\u001b[1;32m    505\u001b[0m         self._stateful_fn._get_concrete_function_internal_garbage_collected(  # pylint: disable=protected-access\n\u001b[0;32m--> 506\u001b[0;31m             *args, **kwds))\n\u001b[0m\u001b[1;32m    507\u001b[0m \u001b[0;34m\u001b[0m\u001b[0m\n\u001b[1;32m    508\u001b[0m     \u001b[0;32mdef\u001b[0m \u001b[0minvalid_creator_scope\u001b[0m\u001b[0;34m(\u001b[0m\u001b[0;34m*\u001b[0m\u001b[0munused_args\u001b[0m\u001b[0;34m,\u001b[0m \u001b[0;34m**\u001b[0m\u001b[0munused_kwds\u001b[0m\u001b[0;34m)\u001b[0m\u001b[0;34m:\u001b[0m\u001b[0;34m\u001b[0m\u001b[0;34m\u001b[0m\u001b[0m\n",
      "\u001b[0;32m~/Documents/Github/Voicenet/voicenet_venv/lib/python3.7/site-packages/tensorflow/python/eager/function.py\u001b[0m in \u001b[0;36m_get_concrete_function_internal_garbage_collected\u001b[0;34m(self, *args, **kwargs)\u001b[0m\n\u001b[1;32m   2444\u001b[0m       \u001b[0margs\u001b[0m\u001b[0;34m,\u001b[0m \u001b[0mkwargs\u001b[0m \u001b[0;34m=\u001b[0m \u001b[0;32mNone\u001b[0m\u001b[0;34m,\u001b[0m \u001b[0;32mNone\u001b[0m\u001b[0;34m\u001b[0m\u001b[0;34m\u001b[0m\u001b[0m\n\u001b[1;32m   2445\u001b[0m     \u001b[0;32mwith\u001b[0m \u001b[0mself\u001b[0m\u001b[0;34m.\u001b[0m\u001b[0m_lock\u001b[0m\u001b[0;34m:\u001b[0m\u001b[0;34m\u001b[0m\u001b[0;34m\u001b[0m\u001b[0m\n\u001b[0;32m-> 2446\u001b[0;31m       \u001b[0mgraph_function\u001b[0m\u001b[0;34m,\u001b[0m \u001b[0m_\u001b[0m\u001b[0;34m,\u001b[0m \u001b[0m_\u001b[0m \u001b[0;34m=\u001b[0m \u001b[0mself\u001b[0m\u001b[0;34m.\u001b[0m\u001b[0m_maybe_define_function\u001b[0m\u001b[0;34m(\u001b[0m\u001b[0margs\u001b[0m\u001b[0;34m,\u001b[0m \u001b[0mkwargs\u001b[0m\u001b[0;34m)\u001b[0m\u001b[0;34m\u001b[0m\u001b[0;34m\u001b[0m\u001b[0m\n\u001b[0m\u001b[1;32m   2447\u001b[0m     \u001b[0;32mreturn\u001b[0m \u001b[0mgraph_function\u001b[0m\u001b[0;34m\u001b[0m\u001b[0;34m\u001b[0m\u001b[0m\n\u001b[1;32m   2448\u001b[0m \u001b[0;34m\u001b[0m\u001b[0m\n",
      "\u001b[0;32m~/Documents/Github/Voicenet/voicenet_venv/lib/python3.7/site-packages/tensorflow/python/eager/function.py\u001b[0m in \u001b[0;36m_maybe_define_function\u001b[0;34m(self, args, kwargs)\u001b[0m\n\u001b[1;32m   2775\u001b[0m \u001b[0;34m\u001b[0m\u001b[0m\n\u001b[1;32m   2776\u001b[0m       \u001b[0mself\u001b[0m\u001b[0;34m.\u001b[0m\u001b[0m_function_cache\u001b[0m\u001b[0;34m.\u001b[0m\u001b[0mmissed\u001b[0m\u001b[0;34m.\u001b[0m\u001b[0madd\u001b[0m\u001b[0;34m(\u001b[0m\u001b[0mcall_context_key\u001b[0m\u001b[0;34m)\u001b[0m\u001b[0;34m\u001b[0m\u001b[0;34m\u001b[0m\u001b[0m\n\u001b[0;32m-> 2777\u001b[0;31m       \u001b[0mgraph_function\u001b[0m \u001b[0;34m=\u001b[0m \u001b[0mself\u001b[0m\u001b[0;34m.\u001b[0m\u001b[0m_create_graph_function\u001b[0m\u001b[0;34m(\u001b[0m\u001b[0margs\u001b[0m\u001b[0;34m,\u001b[0m \u001b[0mkwargs\u001b[0m\u001b[0;34m)\u001b[0m\u001b[0;34m\u001b[0m\u001b[0;34m\u001b[0m\u001b[0m\n\u001b[0m\u001b[1;32m   2778\u001b[0m       \u001b[0mself\u001b[0m\u001b[0;34m.\u001b[0m\u001b[0m_function_cache\u001b[0m\u001b[0;34m.\u001b[0m\u001b[0mprimary\u001b[0m\u001b[0;34m[\u001b[0m\u001b[0mcache_key\u001b[0m\u001b[0;34m]\u001b[0m \u001b[0;34m=\u001b[0m \u001b[0mgraph_function\u001b[0m\u001b[0;34m\u001b[0m\u001b[0;34m\u001b[0m\u001b[0m\n\u001b[1;32m   2779\u001b[0m       \u001b[0;32mreturn\u001b[0m \u001b[0mgraph_function\u001b[0m\u001b[0;34m,\u001b[0m \u001b[0margs\u001b[0m\u001b[0;34m,\u001b[0m \u001b[0mkwargs\u001b[0m\u001b[0;34m\u001b[0m\u001b[0;34m\u001b[0m\u001b[0m\n",
      "\u001b[0;32m~/Documents/Github/Voicenet/voicenet_venv/lib/python3.7/site-packages/tensorflow/python/eager/function.py\u001b[0m in \u001b[0;36m_create_graph_function\u001b[0;34m(self, args, kwargs, override_flat_arg_shapes)\u001b[0m\n\u001b[1;32m   2665\u001b[0m             \u001b[0marg_names\u001b[0m\u001b[0;34m=\u001b[0m\u001b[0marg_names\u001b[0m\u001b[0;34m,\u001b[0m\u001b[0;34m\u001b[0m\u001b[0;34m\u001b[0m\u001b[0m\n\u001b[1;32m   2666\u001b[0m             \u001b[0moverride_flat_arg_shapes\u001b[0m\u001b[0;34m=\u001b[0m\u001b[0moverride_flat_arg_shapes\u001b[0m\u001b[0;34m,\u001b[0m\u001b[0;34m\u001b[0m\u001b[0;34m\u001b[0m\u001b[0m\n\u001b[0;32m-> 2667\u001b[0;31m             capture_by_value=self._capture_by_value),\n\u001b[0m\u001b[1;32m   2668\u001b[0m         \u001b[0mself\u001b[0m\u001b[0;34m.\u001b[0m\u001b[0m_function_attributes\u001b[0m\u001b[0;34m,\u001b[0m\u001b[0;34m\u001b[0m\u001b[0;34m\u001b[0m\u001b[0m\n\u001b[1;32m   2669\u001b[0m         \u001b[0;31m# Tell the ConcreteFunction to clean up its graph once it goes out of\u001b[0m\u001b[0;34m\u001b[0m\u001b[0;34m\u001b[0m\u001b[0;34m\u001b[0m\u001b[0m\n",
      "\u001b[0;32m~/Documents/Github/Voicenet/voicenet_venv/lib/python3.7/site-packages/tensorflow/python/framework/func_graph.py\u001b[0m in \u001b[0;36mfunc_graph_from_py_func\u001b[0;34m(name, python_func, args, kwargs, signature, func_graph, autograph, autograph_options, add_control_dependencies, arg_names, op_return_value, collections, capture_by_value, override_flat_arg_shapes)\u001b[0m\n\u001b[1;32m    979\u001b[0m         \u001b[0m_\u001b[0m\u001b[0;34m,\u001b[0m \u001b[0moriginal_func\u001b[0m \u001b[0;34m=\u001b[0m \u001b[0mtf_decorator\u001b[0m\u001b[0;34m.\u001b[0m\u001b[0munwrap\u001b[0m\u001b[0;34m(\u001b[0m\u001b[0mpython_func\u001b[0m\u001b[0;34m)\u001b[0m\u001b[0;34m\u001b[0m\u001b[0;34m\u001b[0m\u001b[0m\n\u001b[1;32m    980\u001b[0m \u001b[0;34m\u001b[0m\u001b[0m\n\u001b[0;32m--> 981\u001b[0;31m       \u001b[0mfunc_outputs\u001b[0m \u001b[0;34m=\u001b[0m \u001b[0mpython_func\u001b[0m\u001b[0;34m(\u001b[0m\u001b[0;34m*\u001b[0m\u001b[0mfunc_args\u001b[0m\u001b[0;34m,\u001b[0m \u001b[0;34m**\u001b[0m\u001b[0mfunc_kwargs\u001b[0m\u001b[0;34m)\u001b[0m\u001b[0;34m\u001b[0m\u001b[0;34m\u001b[0m\u001b[0m\n\u001b[0m\u001b[1;32m    982\u001b[0m \u001b[0;34m\u001b[0m\u001b[0m\n\u001b[1;32m    983\u001b[0m       \u001b[0;31m# invariant: `func_outputs` contains only Tensors, CompositeTensors,\u001b[0m\u001b[0;34m\u001b[0m\u001b[0;34m\u001b[0m\u001b[0;34m\u001b[0m\u001b[0m\n",
      "\u001b[0;32m~/Documents/Github/Voicenet/voicenet_venv/lib/python3.7/site-packages/tensorflow/python/eager/def_function.py\u001b[0m in \u001b[0;36mwrapped_fn\u001b[0;34m(*args, **kwds)\u001b[0m\n\u001b[1;32m    439\u001b[0m         \u001b[0;31m# __wrapped__ allows AutoGraph to swap in a converted function. We give\u001b[0m\u001b[0;34m\u001b[0m\u001b[0;34m\u001b[0m\u001b[0;34m\u001b[0m\u001b[0m\n\u001b[1;32m    440\u001b[0m         \u001b[0;31m# the function a weak reference to itself to avoid a reference cycle.\u001b[0m\u001b[0;34m\u001b[0m\u001b[0;34m\u001b[0m\u001b[0;34m\u001b[0m\u001b[0m\n\u001b[0;32m--> 441\u001b[0;31m         \u001b[0;32mreturn\u001b[0m \u001b[0mweak_wrapped_fn\u001b[0m\u001b[0;34m(\u001b[0m\u001b[0;34m)\u001b[0m\u001b[0;34m.\u001b[0m\u001b[0m__wrapped__\u001b[0m\u001b[0;34m(\u001b[0m\u001b[0;34m*\u001b[0m\u001b[0margs\u001b[0m\u001b[0;34m,\u001b[0m \u001b[0;34m**\u001b[0m\u001b[0mkwds\u001b[0m\u001b[0;34m)\u001b[0m\u001b[0;34m\u001b[0m\u001b[0;34m\u001b[0m\u001b[0m\n\u001b[0m\u001b[1;32m    442\u001b[0m     \u001b[0mweak_wrapped_fn\u001b[0m \u001b[0;34m=\u001b[0m \u001b[0mweakref\u001b[0m\u001b[0;34m.\u001b[0m\u001b[0mref\u001b[0m\u001b[0;34m(\u001b[0m\u001b[0mwrapped_fn\u001b[0m\u001b[0;34m)\u001b[0m\u001b[0;34m\u001b[0m\u001b[0;34m\u001b[0m\u001b[0m\n\u001b[1;32m    443\u001b[0m \u001b[0;34m\u001b[0m\u001b[0m\n",
      "\u001b[0;32m~/Documents/Github/Voicenet/voicenet_venv/lib/python3.7/site-packages/tensorflow/python/framework/func_graph.py\u001b[0m in \u001b[0;36mwrapper\u001b[0;34m(*args, **kwargs)\u001b[0m\n\u001b[1;32m    966\u001b[0m           \u001b[0;32mexcept\u001b[0m \u001b[0mException\u001b[0m \u001b[0;32mas\u001b[0m \u001b[0me\u001b[0m\u001b[0;34m:\u001b[0m  \u001b[0;31m# pylint:disable=broad-except\u001b[0m\u001b[0;34m\u001b[0m\u001b[0;34m\u001b[0m\u001b[0m\n\u001b[1;32m    967\u001b[0m             \u001b[0;32mif\u001b[0m \u001b[0mhasattr\u001b[0m\u001b[0;34m(\u001b[0m\u001b[0me\u001b[0m\u001b[0;34m,\u001b[0m \u001b[0;34m\"ag_error_metadata\"\u001b[0m\u001b[0;34m)\u001b[0m\u001b[0;34m:\u001b[0m\u001b[0;34m\u001b[0m\u001b[0;34m\u001b[0m\u001b[0m\n\u001b[0;32m--> 968\u001b[0;31m               \u001b[0;32mraise\u001b[0m \u001b[0me\u001b[0m\u001b[0;34m.\u001b[0m\u001b[0mag_error_metadata\u001b[0m\u001b[0;34m.\u001b[0m\u001b[0mto_exception\u001b[0m\u001b[0;34m(\u001b[0m\u001b[0me\u001b[0m\u001b[0;34m)\u001b[0m\u001b[0;34m\u001b[0m\u001b[0;34m\u001b[0m\u001b[0m\n\u001b[0m\u001b[1;32m    969\u001b[0m             \u001b[0;32melse\u001b[0m\u001b[0;34m:\u001b[0m\u001b[0;34m\u001b[0m\u001b[0;34m\u001b[0m\u001b[0m\n\u001b[1;32m    970\u001b[0m               \u001b[0;32mraise\u001b[0m\u001b[0;34m\u001b[0m\u001b[0;34m\u001b[0m\u001b[0m\n",
      "\u001b[0;31mValueError\u001b[0m: in user code:\n\n    /home/ridhima/Documents/Github/Voicenet/voicenet_venv/lib/python3.7/site-packages/tensorflow/python/keras/engine/training.py:571 train_function  *\n        outputs = self.distribute_strategy.run(\n    /home/ridhima/Documents/Github/Voicenet/voicenet_venv/lib/python3.7/site-packages/tensorflow/python/distribute/distribute_lib.py:951 run  **\n        return self._extended.call_for_each_replica(fn, args=args, kwargs=kwargs)\n    /home/ridhima/Documents/Github/Voicenet/voicenet_venv/lib/python3.7/site-packages/tensorflow/python/distribute/distribute_lib.py:2290 call_for_each_replica\n        return self._call_for_each_replica(fn, args, kwargs)\n    /home/ridhima/Documents/Github/Voicenet/voicenet_venv/lib/python3.7/site-packages/tensorflow/python/distribute/distribute_lib.py:2649 _call_for_each_replica\n        return fn(*args, **kwargs)\n    /home/ridhima/Documents/Github/Voicenet/voicenet_venv/lib/python3.7/site-packages/tensorflow/python/keras/engine/training.py:531 train_step  **\n        y_pred = self(x, training=True)\n    /home/ridhima/Documents/Github/Voicenet/voicenet_venv/lib/python3.7/site-packages/tensorflow/python/keras/engine/base_layer.py:886 __call__\n        self.name)\n    /home/ridhima/Documents/Github/Voicenet/voicenet_venv/lib/python3.7/site-packages/tensorflow/python/keras/engine/input_spec.py:180 assert_input_compatibility\n        str(x.shape.as_list()))\n\n    ValueError: Input 0 of layer sequential_5 is incompatible with the layer: expected ndim=3, found ndim=2. Full shape received: [None, 1521]\n"
     ]
    }
   ],
   "source": [
    "history  = cnn_model.fit(X_train,np.array(np.array(y_train).reshape((len(y_train),1))), epochs=100, validation_split=0.2)"
   ]
  },
  {
   "cell_type": "markdown",
   "metadata": {},
   "source": [
    "## Z-SCore and GRAM Matrix Features "
   ]
  },
  {
   "cell_type": "code",
   "execution_count": 64,
   "metadata": {},
   "outputs": [],
   "source": [
    "def zscore_gram_matrix(files_list):\n",
    "        \n",
    "        \"\"\" Create features for all '.wav' files contains in files_list\n",
    "        \n",
    "        Arguments:\n",
    "            files_list: takes a list of '.wav' training files\n",
    "\n",
    "        Returns:\n",
    "            features: creates a vector of all .wav training files and stack them over as an array\n",
    "        \"\"\"\n",
    "        \n",
    "        features = list()\n",
    "        \n",
    "        for file in files_list:\n",
    "            \n",
    "#             logging.info(\"Creating features for {0}\".format(file))\n",
    "            \n",
    "            # mfccfeatures = mfcc_features()\n",
    "            vector = FeatureExtraction.mfcc_feature(file)\n",
    "            vector = stats.zscore(vector, axis=1, ddof=1)\n",
    "            \n",
    "#             print(vector.shape)\n",
    "            \n",
    "            vector1 = np.dot(np.transpose(vector),vector)\n",
    "        \n",
    "            features.append(np.array(vector1))\n",
    "            \n",
    "#             print(vector1.shape)\n",
    "            \n",
    "            ## If features array is empty then stacking is not possible.\n",
    "#             if features.size == 0:\n",
    "#                 features = vector1.flatten()\n",
    "                \n",
    "#             else:\n",
    "#                 features = np.vstack((features, vector1.flatten()))\n",
    "                \n",
    "        return np.array(features)"
   ]
  },
  {
   "cell_type": "code",
   "execution_count": 65,
   "metadata": {},
   "outputs": [],
   "source": [
    "X_train = zscore_gram_matrix(x_train)"
   ]
  },
  {
   "cell_type": "code",
   "execution_count": 67,
   "metadata": {},
   "outputs": [
    {
     "data": {
      "image/png": "[encoded data removed]",
      "text/plain": [
       "<Figure size 432x288 with 1 Axes>"
      ]
     },
     "metadata": {
      "needs_background": "light"
     },
     "output_type": "display_data"
    }
   ],
   "source": [
    "plt.plot(X_train[1])\n",
    "plt.plot(X_train[2])\n",
    "plt.show()"
   ]
  },
  {
   "cell_type": "code",
   "execution_count": 58,
   "metadata": {},
   "outputs": [
    {
     "name": "stdout",
     "output_type": "stream",
     "text": [
      "<class 'numpy.ndarray'>\n",
      "[[ 2.06327489e+03  7.56978825e+02 -7.29271928e+01 ...  4.56762291e+00\n",
      "   3.77279795e+00  3.66732413e+00]\n",
      " [ 7.56978825e+02  1.35733581e+03 -3.60017058e+02 ...  3.79838401e+01\n",
      "   4.43780573e+01  4.42390951e+01]\n",
      " [-7.29271928e+01 -3.60017058e+02  1.00101318e+03 ... -1.06678050e+01\n",
      "  -6.76223287e+00  1.21822293e+00]\n",
      " ...\n",
      " [ 4.56762291e+00  3.79838401e+01 -1.06678050e+01 ...  3.58755747e+01\n",
      "   1.30190108e+01  1.55445531e+01]\n",
      " [ 3.77279795e+00  4.43780573e+01 -6.76223287e+00 ...  1.30190108e+01\n",
      "   2.44189340e+01  1.39717844e+01]\n",
      " [ 3.66732413e+00  4.42390951e+01  1.21822293e+00 ...  1.55445531e+01\n",
      "   1.39717844e+01  3.45241712e+01]]\n"
     ]
    }
   ],
   "source": [
    "# X_train = np.array(X_train)[indices.astype(int)]\n",
    "print(type(X_train))\n",
    "print(X_train[0])\n",
    "X_train = X_train.reshape(X_train.shape[0], X_train.shape[1], X_train.shape[2], 1)"
   ]
  },
  {
   "cell_type": "markdown",
   "metadata": {},
   "source": [
    "## 2D CNN Model "
   ]
  },
  {
   "cell_type": "code",
   "execution_count": 59,
   "metadata": {},
   "outputs": [],
   "source": [
    "cnn_model = models.Sequential()\n",
    "\n",
    "cnn_model.add(layers.Conv2D(128, (3,3), activation='relu', input_shape=(X_train.shape[1],X_train.shape[2],1)))\n",
    "cnn_model.add(Dropout(0.15))\n",
    "cnn_model.add(layers.MaxPool2D(2,2))\n",
    "cnn_model.add(layers.Conv2D(64, (3,3), activation='relu'))\n",
    "cnn_model.add(Dropout(0.15))\n",
    "cnn_model.add(layers.MaxPool2D(2,2))\n",
    "cnn_model.add(layers.Flatten())\n",
    "cnn_model.add(layers.Dense(32, activation='relu'))\n",
    "cnn_model.add(Dropout(0.15))\n",
    "cnn_model.add(layers.Dense(1, activation='sigmoid'))"
   ]
  },
  {
   "cell_type": "code",
   "execution_count": 60,
   "metadata": {},
   "outputs": [],
   "source": [
    "cnn_model.compile(optimizer='adam', metrics=['accuracy'], loss='binary_crossentropy')"
   ]
  },
  {
   "cell_type": "code",
   "execution_count": 61,
   "metadata": {},
   "outputs": [
    {
     "name": "stdout",
     "output_type": "stream",
     "text": [
      "Epoch 1/100\n",
      "64/64 [==============================] - 6s 89ms/step - loss: 3.4137 - accuracy: 0.6812 - val_loss: 0.7011 - val_accuracy: 0.0000e+00\n",
      "Epoch 2/100\n",
      "64/64 [==============================] - 6s 88ms/step - loss: 0.3547 - accuracy: 0.7765 - val_loss: 0.7506 - val_accuracy: 0.9336\n",
      "Epoch 3/100\n",
      "64/64 [==============================] - 5s 84ms/step - loss: 0.3446 - accuracy: 0.8313 - val_loss: 0.6728 - val_accuracy: 1.0000\n",
      "Epoch 4/100\n",
      "64/64 [==============================] - 6s 86ms/step - loss: 0.3230 - accuracy: 0.8528 - val_loss: 0.6558 - val_accuracy: 1.0000\n",
      "Epoch 5/100\n",
      "64/64 [==============================] - 6s 101ms/step - loss: 0.2945 - accuracy: 0.8724 - val_loss: 0.6535 - val_accuracy: 0.9922\n",
      "Epoch 6/100\n",
      "64/64 [==============================] - 6s 98ms/step - loss: 0.3052 - accuracy: 0.8641 - val_loss: 0.7042 - val_accuracy: 0.9336\n",
      "Epoch 7/100\n",
      "64/64 [==============================] - 7s 103ms/step - loss: 0.2943 - accuracy: 0.8714 - val_loss: 0.6021 - val_accuracy: 1.0000\n",
      "Epoch 8/100\n",
      "64/64 [==============================] - 6s 95ms/step - loss: 0.2750 - accuracy: 0.8787 - val_loss: 0.5844 - val_accuracy: 1.0000\n",
      "Epoch 9/100\n",
      "64/64 [==============================] - 6s 95ms/step - loss: 0.2563 - accuracy: 0.8998 - val_loss: 0.5813 - val_accuracy: 0.9844\n",
      "Epoch 10/100\n",
      "64/64 [==============================] - 6s 92ms/step - loss: 0.2063 - accuracy: 0.9623 - val_loss: 0.5384 - val_accuracy: 1.0000\n",
      "Epoch 11/100\n",
      "64/64 [==============================] - 6s 90ms/step - loss: 0.1984 - accuracy: 0.9579 - val_loss: 0.5183 - val_accuracy: 0.9980\n",
      "Epoch 12/100\n",
      "64/64 [==============================] - 6s 88ms/step - loss: 0.1786 - accuracy: 0.9707 - val_loss: 0.4959 - val_accuracy: 0.9863\n",
      "Epoch 13/100\n",
      "64/64 [==============================] - 6s 89ms/step - loss: 0.1784 - accuracy: 0.9658 - val_loss: 0.4667 - val_accuracy: 1.0000\n",
      "Epoch 14/100\n",
      "64/64 [==============================] - 6s 93ms/step - loss: 0.1753 - accuracy: 0.9736 - val_loss: 0.4565 - val_accuracy: 0.9922\n",
      "Epoch 15/100\n",
      "64/64 [==============================] - 6s 91ms/step - loss: 0.1655 - accuracy: 0.9790 - val_loss: 0.4259 - val_accuracy: 0.9980\n",
      "Epoch 16/100\n",
      "64/64 [==============================] - 6s 92ms/step - loss: 0.1154 - accuracy: 0.9751 - val_loss: 0.1313 - val_accuracy: 0.9922\n",
      "Epoch 17/100\n",
      "64/64 [==============================] - 6s 90ms/step - loss: 0.0701 - accuracy: 0.9844 - val_loss: 0.0295 - val_accuracy: 0.9961\n",
      "Epoch 18/100\n",
      "64/64 [==============================] - 6s 90ms/step - loss: 0.0776 - accuracy: 0.9824 - val_loss: 0.0466 - val_accuracy: 0.9941\n",
      "Epoch 19/100\n",
      "64/64 [==============================] - 6s 92ms/step - loss: 0.0391 - accuracy: 0.9883 - val_loss: 0.0104 - val_accuracy: 0.9980\n",
      "Epoch 20/100\n",
      "64/64 [==============================] - 6s 91ms/step - loss: 0.0539 - accuracy: 0.9814 - val_loss: 0.0246 - val_accuracy: 0.9961\n",
      "Epoch 21/100\n",
      "64/64 [==============================] - 6s 92ms/step - loss: 0.0392 - accuracy: 0.9892 - val_loss: 0.0119 - val_accuracy: 1.0000\n",
      "Epoch 22/100\n",
      "64/64 [==============================] - 6s 91ms/step - loss: 0.0297 - accuracy: 0.9922 - val_loss: 0.0048 - val_accuracy: 1.0000\n",
      "Epoch 23/100\n",
      "64/64 [==============================] - 6s 89ms/step - loss: 0.0295 - accuracy: 0.9932 - val_loss: 0.0023 - val_accuracy: 1.0000\n",
      "Epoch 24/100\n",
      "64/64 [==============================] - 6s 91ms/step - loss: 0.0461 - accuracy: 0.9868 - val_loss: 0.0346 - val_accuracy: 0.9941\n",
      "Epoch 25/100\n",
      "64/64 [==============================] - 6s 90ms/step - loss: 0.0422 - accuracy: 0.9883 - val_loss: 0.0158 - val_accuracy: 0.9961\n",
      "Epoch 26/100\n",
      "64/64 [==============================] - 6s 90ms/step - loss: 0.0302 - accuracy: 0.9927 - val_loss: 3.1867e-04 - val_accuracy: 1.0000\n",
      "Epoch 27/100\n",
      "64/64 [==============================] - 6s 92ms/step - loss: 0.0543 - accuracy: 0.9848 - val_loss: 0.0542 - val_accuracy: 0.9805\n",
      "Epoch 28/100\n",
      "64/64 [==============================] - 6s 95ms/step - loss: 0.0253 - accuracy: 0.9956 - val_loss: 0.0029 - val_accuracy: 0.9980\n",
      "Epoch 29/100\n",
      "64/64 [==============================] - 6s 91ms/step - loss: 0.0134 - accuracy: 0.9956 - val_loss: 0.0014 - val_accuracy: 1.0000\n",
      "Epoch 30/100\n",
      "64/64 [==============================] - 6s 92ms/step - loss: 0.0190 - accuracy: 0.9951 - val_loss: 0.0618 - val_accuracy: 0.9883\n",
      "Epoch 31/100\n",
      "64/64 [==============================] - 6s 90ms/step - loss: 0.0116 - accuracy: 0.9951 - val_loss: 0.0135 - val_accuracy: 0.9941\n",
      "Epoch 32/100\n",
      "64/64 [==============================] - 6s 96ms/step - loss: 0.0149 - accuracy: 0.9956 - val_loss: 6.2696e-04 - val_accuracy: 1.0000\n",
      "Epoch 33/100\n",
      "64/64 [==============================] - 6s 90ms/step - loss: 0.0115 - accuracy: 0.9961 - val_loss: 0.0020 - val_accuracy: 1.0000\n",
      "Epoch 34/100\n",
      "64/64 [==============================] - 6s 91ms/step - loss: 0.0101 - accuracy: 0.9971 - val_loss: 0.0100 - val_accuracy: 0.9961\n",
      "Epoch 35/100\n",
      "64/64 [==============================] - 6s 91ms/step - loss: 0.0188 - accuracy: 0.9917 - val_loss: 0.0016 - val_accuracy: 1.0000\n",
      "Epoch 36/100\n",
      "64/64 [==============================] - 6s 91ms/step - loss: 0.0130 - accuracy: 0.9941 - val_loss: 0.0082 - val_accuracy: 0.9980\n",
      "Epoch 37/100\n",
      "64/64 [==============================] - 6s 93ms/step - loss: 0.0371 - accuracy: 0.9912 - val_loss: 0.0032 - val_accuracy: 0.9980\n",
      "Epoch 38/100\n",
      "64/64 [==============================] - 6s 89ms/step - loss: 0.0460 - accuracy: 0.9824 - val_loss: 0.0012 - val_accuracy: 1.0000\n",
      "Epoch 39/100\n",
      "64/64 [==============================] - 6s 94ms/step - loss: 0.0241 - accuracy: 0.9922 - val_loss: 0.0087 - val_accuracy: 0.9980\n",
      "Epoch 40/100\n",
      "64/64 [==============================] - 6s 91ms/step - loss: 0.0224 - accuracy: 0.9868 - val_loss: 7.4436e-05 - val_accuracy: 1.0000\n",
      "Epoch 41/100\n",
      "64/64 [==============================] - 6s 91ms/step - loss: 0.0152 - accuracy: 0.9941 - val_loss: 9.5086e-04 - val_accuracy: 1.0000\n",
      "Epoch 42/100\n",
      "64/64 [==============================] - 6s 92ms/step - loss: 0.0241 - accuracy: 0.9946 - val_loss: 0.0081 - val_accuracy: 1.0000\n",
      "Epoch 43/100\n",
      "64/64 [==============================] - 6s 90ms/step - loss: 0.0188 - accuracy: 0.9917 - val_loss: 9.4576e-04 - val_accuracy: 1.0000\n",
      "Epoch 44/100\n",
      "64/64 [==============================] - 6s 91ms/step - loss: 0.0584 - accuracy: 0.9848 - val_loss: 0.0091 - val_accuracy: 0.9961\n",
      "Epoch 45/100\n",
      "64/64 [==============================] - 6s 91ms/step - loss: 0.0307 - accuracy: 0.9878 - val_loss: 0.0033 - val_accuracy: 0.9980\n",
      "Epoch 46/100\n",
      "64/64 [==============================] - 6s 90ms/step - loss: 0.0222 - accuracy: 0.9946 - val_loss: 0.0024 - val_accuracy: 1.0000\n",
      "Epoch 47/100\n",
      "64/64 [==============================] - 6s 91ms/step - loss: 0.0156 - accuracy: 0.9971 - val_loss: 0.0047 - val_accuracy: 1.0000\n",
      "Epoch 48/100\n",
      "64/64 [==============================] - 6s 91ms/step - loss: 0.0185 - accuracy: 0.9936 - val_loss: 3.4342e-05 - val_accuracy: 1.0000\n",
      "Epoch 49/100\n",
      "64/64 [==============================] - 6s 91ms/step - loss: 0.0269 - accuracy: 0.9941 - val_loss: 8.6246e-06 - val_accuracy: 1.0000\n",
      "Epoch 50/100\n",
      "64/64 [==============================] - 6s 93ms/step - loss: 0.0308 - accuracy: 0.9907 - val_loss: 0.0091 - val_accuracy: 0.9980\n",
      "Epoch 51/100\n",
      "64/64 [==============================] - 6s 91ms/step - loss: 0.0148 - accuracy: 0.9932 - val_loss: 0.0015 - val_accuracy: 1.0000\n",
      "Epoch 52/100\n",
      "64/64 [==============================] - 6s 90ms/step - loss: 0.0174 - accuracy: 0.9936 - val_loss: 0.0020 - val_accuracy: 1.0000\n",
      "Epoch 53/100\n",
      "64/64 [==============================] - 6s 90ms/step - loss: 0.0060 - accuracy: 0.9976 - val_loss: 2.8093e-05 - val_accuracy: 1.0000\n",
      "Epoch 54/100\n",
      "64/64 [==============================] - 6s 91ms/step - loss: 0.0050 - accuracy: 0.9985 - val_loss: 4.2182e-04 - val_accuracy: 1.0000\n",
      "Epoch 55/100\n",
      "64/64 [==============================] - 6s 92ms/step - loss: 0.0092 - accuracy: 0.9966 - val_loss: 0.0027 - val_accuracy: 1.0000\n",
      "Epoch 56/100\n",
      "64/64 [==============================] - 6s 90ms/step - loss: 0.0363 - accuracy: 0.9936 - val_loss: 0.0637 - val_accuracy: 0.9766\n",
      "Epoch 57/100\n",
      "64/64 [==============================] - 6s 92ms/step - loss: 0.0189 - accuracy: 0.9932 - val_loss: 1.2274e-04 - val_accuracy: 1.0000\n",
      "Epoch 58/100\n"
     ]
    },
    {
     "name": "stdout",
     "output_type": "stream",
     "text": [
      "64/64 [==============================] - 6s 89ms/step - loss: 0.0231 - accuracy: 0.9946 - val_loss: 0.0179 - val_accuracy: 1.0000\n",
      "Epoch 59/100\n",
      "64/64 [==============================] - 6s 91ms/step - loss: 0.0244 - accuracy: 0.9917 - val_loss: 0.0032 - val_accuracy: 1.0000\n",
      "Epoch 60/100\n",
      "64/64 [==============================] - 6s 96ms/step - loss: 0.0091 - accuracy: 0.9971 - val_loss: 2.8687e-04 - val_accuracy: 1.0000\n",
      "Epoch 61/100\n",
      "64/64 [==============================] - 6s 90ms/step - loss: 0.0177 - accuracy: 0.9971 - val_loss: 0.0011 - val_accuracy: 1.0000\n",
      "Epoch 62/100\n",
      "64/64 [==============================] - 6s 91ms/step - loss: 0.0022 - accuracy: 1.0000 - val_loss: 2.4505e-04 - val_accuracy: 1.0000\n",
      "Epoch 63/100\n",
      "64/64 [==============================] - 6s 89ms/step - loss: 0.0040 - accuracy: 0.9976 - val_loss: 8.7133e-04 - val_accuracy: 1.0000\n",
      "Epoch 64/100\n",
      "64/64 [==============================] - 6s 90ms/step - loss: 0.0082 - accuracy: 0.9971 - val_loss: 0.0015 - val_accuracy: 1.0000\n",
      "Epoch 65/100\n",
      "64/64 [==============================] - 6s 94ms/step - loss: 0.0070 - accuracy: 0.9980 - val_loss: 0.0021 - val_accuracy: 0.9980\n",
      "Epoch 66/100\n",
      "64/64 [==============================] - 6s 89ms/step - loss: 0.0081 - accuracy: 0.9971 - val_loss: 0.0231 - val_accuracy: 0.9980\n",
      "Epoch 67/100\n",
      "64/64 [==============================] - 6s 92ms/step - loss: 0.0163 - accuracy: 0.9956 - val_loss: 0.0787 - val_accuracy: 0.9785\n",
      "Epoch 68/100\n",
      "64/64 [==============================] - 6s 91ms/step - loss: 0.0268 - accuracy: 0.9883 - val_loss: 7.9413e-04 - val_accuracy: 1.0000\n",
      "Epoch 69/100\n",
      "64/64 [==============================] - 6s 90ms/step - loss: 0.0228 - accuracy: 0.9892 - val_loss: 0.0013 - val_accuracy: 1.0000\n",
      "Epoch 70/100\n",
      "64/64 [==============================] - 6s 93ms/step - loss: 0.0061 - accuracy: 0.9980 - val_loss: 1.3904e-06 - val_accuracy: 1.0000\n",
      "Epoch 71/100\n",
      "64/64 [==============================] - 6s 94ms/step - loss: 0.0184 - accuracy: 0.9922 - val_loss: 3.9757e-05 - val_accuracy: 1.0000\n",
      "Epoch 72/100\n",
      "64/64 [==============================] - 6s 90ms/step - loss: 0.0080 - accuracy: 0.9956 - val_loss: 6.8201e-05 - val_accuracy: 1.0000\n",
      "Epoch 73/100\n",
      "64/64 [==============================] - 6s 89ms/step - loss: 0.0145 - accuracy: 0.9966 - val_loss: 2.1621e-04 - val_accuracy: 1.0000\n",
      "Epoch 74/100\n",
      "64/64 [==============================] - 6s 89ms/step - loss: 0.0136 - accuracy: 0.9966 - val_loss: 0.0016 - val_accuracy: 0.9980\n",
      "Epoch 75/100\n",
      "64/64 [==============================] - 6s 92ms/step - loss: 0.0050 - accuracy: 0.9966 - val_loss: 0.0030 - val_accuracy: 0.9980\n",
      "Epoch 76/100\n",
      "64/64 [==============================] - 6s 88ms/step - loss: 0.0079 - accuracy: 0.9995 - val_loss: 3.3961e-04 - val_accuracy: 1.0000\n",
      "Epoch 77/100\n",
      "64/64 [==============================] - 5s 86ms/step - loss: 0.0090 - accuracy: 0.9990 - val_loss: 0.0035 - val_accuracy: 0.9980\n",
      "Epoch 78/100\n",
      "64/64 [==============================] - 5s 84ms/step - loss: 0.0027 - accuracy: 0.9990 - val_loss: 7.2041e-05 - val_accuracy: 1.0000\n",
      "Epoch 79/100\n",
      "64/64 [==============================] - 6s 96ms/step - loss: 0.0106 - accuracy: 0.9971 - val_loss: 3.3612e-04 - val_accuracy: 1.0000\n",
      "Epoch 80/100\n",
      "64/64 [==============================] - 6s 87ms/step - loss: 0.0425 - accuracy: 0.9907 - val_loss: 0.0060 - val_accuracy: 0.9961\n",
      "Epoch 81/100\n",
      "64/64 [==============================] - 7s 114ms/step - loss: 0.0232 - accuracy: 0.9917 - val_loss: 0.0209 - val_accuracy: 0.9961\n",
      "Epoch 82/100\n",
      "64/64 [==============================] - 6s 88ms/step - loss: 0.0426 - accuracy: 0.9912 - val_loss: 0.0747 - val_accuracy: 0.9883\n",
      "Epoch 83/100\n",
      "64/64 [==============================] - 6s 88ms/step - loss: 0.0777 - accuracy: 0.9800 - val_loss: 0.0041 - val_accuracy: 1.0000\n",
      "Epoch 84/100\n",
      "64/64 [==============================] - 5s 85ms/step - loss: 0.0251 - accuracy: 0.9946 - val_loss: 0.0120 - val_accuracy: 0.9941\n",
      "Epoch 85/100\n",
      "64/64 [==============================] - 5s 84ms/step - loss: 0.0187 - accuracy: 0.9927 - val_loss: 0.0017 - val_accuracy: 1.0000\n",
      "Epoch 86/100\n",
      "64/64 [==============================] - 6s 91ms/step - loss: 0.0195 - accuracy: 0.9912 - val_loss: 4.0614e-04 - val_accuracy: 1.0000\n",
      "Epoch 87/100\n",
      "64/64 [==============================] - 6s 98ms/step - loss: 0.0056 - accuracy: 0.9980 - val_loss: 0.0020 - val_accuracy: 0.9980\n",
      "Epoch 88/100\n",
      "64/64 [==============================] - 5s 84ms/step - loss: 0.0034 - accuracy: 0.9990 - val_loss: 2.7677e-04 - val_accuracy: 1.0000\n",
      "Epoch 89/100\n",
      "64/64 [==============================] - 5s 83ms/step - loss: 0.0326 - accuracy: 0.9878 - val_loss: 0.0012 - val_accuracy: 1.0000\n",
      "Epoch 90/100\n",
      "64/64 [==============================] - 5s 84ms/step - loss: 0.0117 - accuracy: 0.9936 - val_loss: 0.0020 - val_accuracy: 1.0000\n",
      "Epoch 91/100\n",
      "64/64 [==============================] - 5s 85ms/step - loss: 0.0105 - accuracy: 0.9951 - val_loss: 0.0015 - val_accuracy: 1.0000\n",
      "Epoch 92/100\n",
      "64/64 [==============================] - 5s 83ms/step - loss: 0.0044 - accuracy: 0.9980 - val_loss: 7.6016e-04 - val_accuracy: 1.0000\n",
      "Epoch 93/100\n",
      "64/64 [==============================] - 6s 86ms/step - loss: 0.0100 - accuracy: 0.9976 - val_loss: 2.9392e-04 - val_accuracy: 1.0000\n",
      "Epoch 94/100\n",
      "64/64 [==============================] - 5s 83ms/step - loss: 0.0428 - accuracy: 0.9878 - val_loss: 5.8467e-04 - val_accuracy: 1.0000\n",
      "Epoch 95/100\n",
      "64/64 [==============================] - 5s 83ms/step - loss: 0.0092 - accuracy: 0.9932 - val_loss: 1.0185e-06 - val_accuracy: 1.0000\n",
      "Epoch 96/100\n",
      "64/64 [==============================] - 6s 88ms/step - loss: 0.0035 - accuracy: 0.9980 - val_loss: 2.3123e-05 - val_accuracy: 1.0000\n",
      "Epoch 97/100\n",
      "64/64 [==============================] - 5s 84ms/step - loss: 0.0038 - accuracy: 0.9980 - val_loss: 6.6431e-05 - val_accuracy: 1.0000\n",
      "Epoch 98/100\n",
      "64/64 [==============================] - 5s 84ms/step - loss: 0.0076 - accuracy: 0.9990 - val_loss: 3.2796e-05 - val_accuracy: 1.0000\n",
      "Epoch 99/100\n",
      "64/64 [==============================] - 5s 85ms/step - loss: 0.0073 - accuracy: 0.9985 - val_loss: 5.1344e-04 - val_accuracy: 1.0000\n",
      "Epoch 100/100\n",
      "64/64 [==============================] - 5s 83ms/step - loss: 0.0039 - accuracy: 0.9985 - val_loss: 6.8641e-04 - val_accuracy: 1.0000\n"
     ]
    }
   ],
   "source": [
    "history  = cnn_model.fit(X_train,np.array(np.array(y_train).reshape((len(y_train),1))), epochs=100, validation_split=0.2)"
   ]
  },
  {
   "cell_type": "code",
   "execution_count": 63,
   "metadata": {},
   "outputs": [
    {
     "data": {
      "image/png": "[encoded data removed]",
      "text/plain": [
       "<Figure size 720x720 with 1 Axes>"
      ]
     },
     "metadata": {
      "needs_background": "light"
     },
     "output_type": "display_data"
    }
   ],
   "source": [
    "plt.figure(figsize=(10,10))\n",
    "plt.plot(history.history[\"accuracy\"])\n",
    "plt.plot(history.history[\"val_accuracy\"])\n",
    "plt.xlabel(\"Epochs\")\n",
    "plt.ylabel(\"Accuracy\")\n",
    "plt.legend([\"train\", \"test\"], loc=\"upper left\")\n",
    "plt.show()"
   ]
  },
  {
   "cell_type": "code",
   "execution_count": 71,
   "metadata": {},
   "outputs": [],
   "source": [
    "X_test = zscore_gram_matrix(x_test)"
   ]
  },
  {
   "cell_type": "code",
   "execution_count": 73,
   "metadata": {},
   "outputs": [
    {
     "ename": "ValueError",
     "evalue": "in user code:\n\n    /home/ridhima/Documents/Github/Voicenet/voicenet_venv/lib/python3.7/site-packages/tensorflow/python/keras/engine/training.py:1147 predict_function  *\n        outputs = self.distribute_strategy.run(\n    /home/ridhima/Documents/Github/Voicenet/voicenet_venv/lib/python3.7/site-packages/tensorflow/python/distribute/distribute_lib.py:951 run  **\n        return self._extended.call_for_each_replica(fn, args=args, kwargs=kwargs)\n    /home/ridhima/Documents/Github/Voicenet/voicenet_venv/lib/python3.7/site-packages/tensorflow/python/distribute/distribute_lib.py:2290 call_for_each_replica\n        return self._call_for_each_replica(fn, args, kwargs)\n    /home/ridhima/Documents/Github/Voicenet/voicenet_venv/lib/python3.7/site-packages/tensorflow/python/distribute/distribute_lib.py:2649 _call_for_each_replica\n        return fn(*args, **kwargs)\n    /home/ridhima/Documents/Github/Voicenet/voicenet_venv/lib/python3.7/site-packages/tensorflow/python/keras/engine/training.py:1122 predict_step  **\n        return self(x, training=False)\n    /home/ridhima/Documents/Github/Voicenet/voicenet_venv/lib/python3.7/site-packages/tensorflow/python/keras/engine/base_layer.py:886 __call__\n        self.name)\n    /home/ridhima/Documents/Github/Voicenet/voicenet_venv/lib/python3.7/site-packages/tensorflow/python/keras/engine/input_spec.py:180 assert_input_compatibility\n        str(x.shape.as_list()))\n\n    ValueError: Input 0 of layer sequential_6 is incompatible with the layer: expected ndim=4, found ndim=3. Full shape received: [None, 39, 1]\n",
     "output_type": "error",
     "traceback": [
      "\u001b[0;31m---------------------------------------------------------------------------\u001b[0m",
      "\u001b[0;31mValueError\u001b[0m                                Traceback (most recent call last)",
      "\u001b[0;32m<ipython-input-73-1aaa7ddcdfc7>\u001b[0m in \u001b[0;36m<module>\u001b[0;34m\u001b[0m\n\u001b[1;32m      1\u001b[0m \u001b[0mX_test\u001b[0m \u001b[0;34m=\u001b[0m \u001b[0mX_test\u001b[0m\u001b[0;34m.\u001b[0m\u001b[0mreshape\u001b[0m\u001b[0;34m(\u001b[0m\u001b[0mX_test\u001b[0m\u001b[0;34m.\u001b[0m\u001b[0mshape\u001b[0m\u001b[0;34m[\u001b[0m\u001b[0;36m0\u001b[0m\u001b[0;34m]\u001b[0m\u001b[0;34m,\u001b[0m \u001b[0mX_test\u001b[0m\u001b[0;34m.\u001b[0m\u001b[0mshape\u001b[0m\u001b[0;34m[\u001b[0m\u001b[0;36m1\u001b[0m\u001b[0;34m]\u001b[0m\u001b[0;34m,\u001b[0m \u001b[0mX_test\u001b[0m\u001b[0;34m.\u001b[0m\u001b[0mshape\u001b[0m\u001b[0;34m[\u001b[0m\u001b[0;36m2\u001b[0m\u001b[0;34m]\u001b[0m\u001b[0;34m,\u001b[0m \u001b[0;36m1\u001b[0m\u001b[0;34m)\u001b[0m\u001b[0;34m\u001b[0m\u001b[0;34m\u001b[0m\u001b[0m\n\u001b[0;32m----> 2\u001b[0;31m \u001b[0mcnn_model\u001b[0m\u001b[0;34m.\u001b[0m\u001b[0mpredict\u001b[0m\u001b[0;34m(\u001b[0m\u001b[0mX_test\u001b[0m\u001b[0;34m[\u001b[0m\u001b[0;36m0\u001b[0m\u001b[0;34m]\u001b[0m\u001b[0;34m)\u001b[0m\u001b[0;34m\u001b[0m\u001b[0;34m\u001b[0m\u001b[0m\n\u001b[0m",
      "\u001b[0;32m~/Documents/Github/Voicenet/voicenet_venv/lib/python3.7/site-packages/tensorflow/python/keras/engine/training.py\u001b[0m in \u001b[0;36m_method_wrapper\u001b[0;34m(self, *args, **kwargs)\u001b[0m\n\u001b[1;32m     86\u001b[0m       raise ValueError('{} is not supported in multi-worker mode.'.format(\n\u001b[1;32m     87\u001b[0m           method.__name__))\n\u001b[0;32m---> 88\u001b[0;31m     \u001b[0;32mreturn\u001b[0m \u001b[0mmethod\u001b[0m\u001b[0;34m(\u001b[0m\u001b[0mself\u001b[0m\u001b[0;34m,\u001b[0m \u001b[0;34m*\u001b[0m\u001b[0margs\u001b[0m\u001b[0;34m,\u001b[0m \u001b[0;34m**\u001b[0m\u001b[0mkwargs\u001b[0m\u001b[0;34m)\u001b[0m\u001b[0;34m\u001b[0m\u001b[0;34m\u001b[0m\u001b[0m\n\u001b[0m\u001b[1;32m     89\u001b[0m \u001b[0;34m\u001b[0m\u001b[0m\n\u001b[1;32m     90\u001b[0m   return tf_decorator.make_decorator(\n",
      "\u001b[0;32m~/Documents/Github/Voicenet/voicenet_venv/lib/python3.7/site-packages/tensorflow/python/keras/engine/training.py\u001b[0m in \u001b[0;36mpredict\u001b[0;34m(self, x, batch_size, verbose, steps, callbacks, max_queue_size, workers, use_multiprocessing)\u001b[0m\n\u001b[1;32m   1266\u001b[0m           \u001b[0;32mfor\u001b[0m \u001b[0mstep\u001b[0m \u001b[0;32min\u001b[0m \u001b[0mdata_handler\u001b[0m\u001b[0;34m.\u001b[0m\u001b[0msteps\u001b[0m\u001b[0;34m(\u001b[0m\u001b[0;34m)\u001b[0m\u001b[0;34m:\u001b[0m\u001b[0;34m\u001b[0m\u001b[0;34m\u001b[0m\u001b[0m\n\u001b[1;32m   1267\u001b[0m             \u001b[0mcallbacks\u001b[0m\u001b[0;34m.\u001b[0m\u001b[0mon_predict_batch_begin\u001b[0m\u001b[0;34m(\u001b[0m\u001b[0mstep\u001b[0m\u001b[0;34m)\u001b[0m\u001b[0;34m\u001b[0m\u001b[0;34m\u001b[0m\u001b[0m\n\u001b[0;32m-> 1268\u001b[0;31m             \u001b[0mtmp_batch_outputs\u001b[0m \u001b[0;34m=\u001b[0m \u001b[0mpredict_function\u001b[0m\u001b[0;34m(\u001b[0m\u001b[0miterator\u001b[0m\u001b[0;34m)\u001b[0m\u001b[0;34m\u001b[0m\u001b[0;34m\u001b[0m\u001b[0m\n\u001b[0m\u001b[1;32m   1269\u001b[0m             \u001b[0;31m# Catch OutOfRangeError for Datasets of unknown size.\u001b[0m\u001b[0;34m\u001b[0m\u001b[0;34m\u001b[0m\u001b[0;34m\u001b[0m\u001b[0m\n\u001b[1;32m   1270\u001b[0m             \u001b[0;31m# This blocks until the batch has finished executing.\u001b[0m\u001b[0;34m\u001b[0m\u001b[0;34m\u001b[0m\u001b[0;34m\u001b[0m\u001b[0m\n",
      "\u001b[0;32m~/Documents/Github/Voicenet/voicenet_venv/lib/python3.7/site-packages/tensorflow/python/eager/def_function.py\u001b[0m in \u001b[0;36m__call__\u001b[0;34m(self, *args, **kwds)\u001b[0m\n\u001b[1;32m    578\u001b[0m         \u001b[0mxla_context\u001b[0m\u001b[0;34m.\u001b[0m\u001b[0mExit\u001b[0m\u001b[0;34m(\u001b[0m\u001b[0;34m)\u001b[0m\u001b[0;34m\u001b[0m\u001b[0;34m\u001b[0m\u001b[0m\n\u001b[1;32m    579\u001b[0m     \u001b[0;32melse\u001b[0m\u001b[0;34m:\u001b[0m\u001b[0;34m\u001b[0m\u001b[0;34m\u001b[0m\u001b[0m\n\u001b[0;32m--> 580\u001b[0;31m       \u001b[0mresult\u001b[0m \u001b[0;34m=\u001b[0m \u001b[0mself\u001b[0m\u001b[0;34m.\u001b[0m\u001b[0m_call\u001b[0m\u001b[0;34m(\u001b[0m\u001b[0;34m*\u001b[0m\u001b[0margs\u001b[0m\u001b[0;34m,\u001b[0m \u001b[0;34m**\u001b[0m\u001b[0mkwds\u001b[0m\u001b[0;34m)\u001b[0m\u001b[0;34m\u001b[0m\u001b[0;34m\u001b[0m\u001b[0m\n\u001b[0m\u001b[1;32m    581\u001b[0m \u001b[0;34m\u001b[0m\u001b[0m\n\u001b[1;32m    582\u001b[0m     \u001b[0;32mif\u001b[0m \u001b[0mtracing_count\u001b[0m \u001b[0;34m==\u001b[0m \u001b[0mself\u001b[0m\u001b[0;34m.\u001b[0m\u001b[0m_get_tracing_count\u001b[0m\u001b[0;34m(\u001b[0m\u001b[0;34m)\u001b[0m\u001b[0;34m:\u001b[0m\u001b[0;34m\u001b[0m\u001b[0;34m\u001b[0m\u001b[0m\n",
      "\u001b[0;32m~/Documents/Github/Voicenet/voicenet_venv/lib/python3.7/site-packages/tensorflow/python/eager/def_function.py\u001b[0m in \u001b[0;36m_call\u001b[0;34m(self, *args, **kwds)\u001b[0m\n\u001b[1;32m    616\u001b[0m       \u001b[0;31m# In this case we have not created variables on the first call. So we can\u001b[0m\u001b[0;34m\u001b[0m\u001b[0;34m\u001b[0m\u001b[0;34m\u001b[0m\u001b[0m\n\u001b[1;32m    617\u001b[0m       \u001b[0;31m# run the first trace but we should fail if variables are created.\u001b[0m\u001b[0;34m\u001b[0m\u001b[0;34m\u001b[0m\u001b[0;34m\u001b[0m\u001b[0m\n\u001b[0;32m--> 618\u001b[0;31m       \u001b[0mresults\u001b[0m \u001b[0;34m=\u001b[0m \u001b[0mself\u001b[0m\u001b[0;34m.\u001b[0m\u001b[0m_stateful_fn\u001b[0m\u001b[0;34m(\u001b[0m\u001b[0;34m*\u001b[0m\u001b[0margs\u001b[0m\u001b[0;34m,\u001b[0m \u001b[0;34m**\u001b[0m\u001b[0mkwds\u001b[0m\u001b[0;34m)\u001b[0m\u001b[0;34m\u001b[0m\u001b[0;34m\u001b[0m\u001b[0m\n\u001b[0m\u001b[1;32m    619\u001b[0m       \u001b[0;32mif\u001b[0m \u001b[0mself\u001b[0m\u001b[0;34m.\u001b[0m\u001b[0m_created_variables\u001b[0m\u001b[0;34m:\u001b[0m\u001b[0;34m\u001b[0m\u001b[0;34m\u001b[0m\u001b[0m\n\u001b[1;32m    620\u001b[0m         raise ValueError(\"Creating variables on a non-first call to a function\"\n",
      "\u001b[0;32m~/Documents/Github/Voicenet/voicenet_venv/lib/python3.7/site-packages/tensorflow/python/eager/function.py\u001b[0m in \u001b[0;36m__call__\u001b[0;34m(self, *args, **kwargs)\u001b[0m\n\u001b[1;32m   2417\u001b[0m     \u001b[0;34m\"\"\"Calls a graph function specialized to the inputs.\"\"\"\u001b[0m\u001b[0;34m\u001b[0m\u001b[0;34m\u001b[0m\u001b[0m\n\u001b[1;32m   2418\u001b[0m     \u001b[0;32mwith\u001b[0m \u001b[0mself\u001b[0m\u001b[0;34m.\u001b[0m\u001b[0m_lock\u001b[0m\u001b[0;34m:\u001b[0m\u001b[0;34m\u001b[0m\u001b[0;34m\u001b[0m\u001b[0m\n\u001b[0;32m-> 2419\u001b[0;31m       \u001b[0mgraph_function\u001b[0m\u001b[0;34m,\u001b[0m \u001b[0margs\u001b[0m\u001b[0;34m,\u001b[0m \u001b[0mkwargs\u001b[0m \u001b[0;34m=\u001b[0m \u001b[0mself\u001b[0m\u001b[0;34m.\u001b[0m\u001b[0m_maybe_define_function\u001b[0m\u001b[0;34m(\u001b[0m\u001b[0margs\u001b[0m\u001b[0;34m,\u001b[0m \u001b[0mkwargs\u001b[0m\u001b[0;34m)\u001b[0m\u001b[0;34m\u001b[0m\u001b[0;34m\u001b[0m\u001b[0m\n\u001b[0m\u001b[1;32m   2420\u001b[0m     \u001b[0;32mreturn\u001b[0m \u001b[0mgraph_function\u001b[0m\u001b[0;34m.\u001b[0m\u001b[0m_filtered_call\u001b[0m\u001b[0;34m(\u001b[0m\u001b[0margs\u001b[0m\u001b[0;34m,\u001b[0m \u001b[0mkwargs\u001b[0m\u001b[0;34m)\u001b[0m  \u001b[0;31m# pylint: disable=protected-access\u001b[0m\u001b[0;34m\u001b[0m\u001b[0;34m\u001b[0m\u001b[0m\n\u001b[1;32m   2421\u001b[0m \u001b[0;34m\u001b[0m\u001b[0m\n",
      "\u001b[0;32m~/Documents/Github/Voicenet/voicenet_venv/lib/python3.7/site-packages/tensorflow/python/eager/function.py\u001b[0m in \u001b[0;36m_maybe_define_function\u001b[0;34m(self, args, kwargs)\u001b[0m\n\u001b[1;32m   2772\u001b[0m           \u001b[0;32mand\u001b[0m \u001b[0mself\u001b[0m\u001b[0;34m.\u001b[0m\u001b[0minput_signature\u001b[0m \u001b[0;32mis\u001b[0m \u001b[0;32mNone\u001b[0m\u001b[0;34m\u001b[0m\u001b[0;34m\u001b[0m\u001b[0m\n\u001b[1;32m   2773\u001b[0m           and call_context_key in self._function_cache.missed):\n\u001b[0;32m-> 2774\u001b[0;31m         \u001b[0;32mreturn\u001b[0m \u001b[0mself\u001b[0m\u001b[0;34m.\u001b[0m\u001b[0m_define_function_with_shape_relaxation\u001b[0m\u001b[0;34m(\u001b[0m\u001b[0margs\u001b[0m\u001b[0;34m,\u001b[0m \u001b[0mkwargs\u001b[0m\u001b[0;34m)\u001b[0m\u001b[0;34m\u001b[0m\u001b[0;34m\u001b[0m\u001b[0m\n\u001b[0m\u001b[1;32m   2775\u001b[0m \u001b[0;34m\u001b[0m\u001b[0m\n\u001b[1;32m   2776\u001b[0m       \u001b[0mself\u001b[0m\u001b[0;34m.\u001b[0m\u001b[0m_function_cache\u001b[0m\u001b[0;34m.\u001b[0m\u001b[0mmissed\u001b[0m\u001b[0;34m.\u001b[0m\u001b[0madd\u001b[0m\u001b[0;34m(\u001b[0m\u001b[0mcall_context_key\u001b[0m\u001b[0;34m)\u001b[0m\u001b[0;34m\u001b[0m\u001b[0;34m\u001b[0m\u001b[0m\n",
      "\u001b[0;32m~/Documents/Github/Voicenet/voicenet_venv/lib/python3.7/site-packages/tensorflow/python/eager/function.py\u001b[0m in \u001b[0;36m_define_function_with_shape_relaxation\u001b[0;34m(self, args, kwargs)\u001b[0m\n\u001b[1;32m   2704\u001b[0m         relaxed_arg_shapes)\n\u001b[1;32m   2705\u001b[0m     graph_function = self._create_graph_function(\n\u001b[0;32m-> 2706\u001b[0;31m         args, kwargs, override_flat_arg_shapes=relaxed_arg_shapes)\n\u001b[0m\u001b[1;32m   2707\u001b[0m     \u001b[0mself\u001b[0m\u001b[0;34m.\u001b[0m\u001b[0m_function_cache\u001b[0m\u001b[0;34m.\u001b[0m\u001b[0marg_relaxed\u001b[0m\u001b[0;34m[\u001b[0m\u001b[0mrank_only_cache_key\u001b[0m\u001b[0;34m]\u001b[0m \u001b[0;34m=\u001b[0m \u001b[0mgraph_function\u001b[0m\u001b[0;34m\u001b[0m\u001b[0;34m\u001b[0m\u001b[0m\n\u001b[1;32m   2708\u001b[0m \u001b[0;34m\u001b[0m\u001b[0m\n",
      "\u001b[0;32m~/Documents/Github/Voicenet/voicenet_venv/lib/python3.7/site-packages/tensorflow/python/eager/function.py\u001b[0m in \u001b[0;36m_create_graph_function\u001b[0;34m(self, args, kwargs, override_flat_arg_shapes)\u001b[0m\n\u001b[1;32m   2665\u001b[0m             \u001b[0marg_names\u001b[0m\u001b[0;34m=\u001b[0m\u001b[0marg_names\u001b[0m\u001b[0;34m,\u001b[0m\u001b[0;34m\u001b[0m\u001b[0;34m\u001b[0m\u001b[0m\n\u001b[1;32m   2666\u001b[0m             \u001b[0moverride_flat_arg_shapes\u001b[0m\u001b[0;34m=\u001b[0m\u001b[0moverride_flat_arg_shapes\u001b[0m\u001b[0;34m,\u001b[0m\u001b[0;34m\u001b[0m\u001b[0;34m\u001b[0m\u001b[0m\n\u001b[0;32m-> 2667\u001b[0;31m             capture_by_value=self._capture_by_value),\n\u001b[0m\u001b[1;32m   2668\u001b[0m         \u001b[0mself\u001b[0m\u001b[0;34m.\u001b[0m\u001b[0m_function_attributes\u001b[0m\u001b[0;34m,\u001b[0m\u001b[0;34m\u001b[0m\u001b[0;34m\u001b[0m\u001b[0m\n\u001b[1;32m   2669\u001b[0m         \u001b[0;31m# Tell the ConcreteFunction to clean up its graph once it goes out of\u001b[0m\u001b[0;34m\u001b[0m\u001b[0;34m\u001b[0m\u001b[0;34m\u001b[0m\u001b[0m\n",
      "\u001b[0;32m~/Documents/Github/Voicenet/voicenet_venv/lib/python3.7/site-packages/tensorflow/python/framework/func_graph.py\u001b[0m in \u001b[0;36mfunc_graph_from_py_func\u001b[0;34m(name, python_func, args, kwargs, signature, func_graph, autograph, autograph_options, add_control_dependencies, arg_names, op_return_value, collections, capture_by_value, override_flat_arg_shapes)\u001b[0m\n\u001b[1;32m    979\u001b[0m         \u001b[0m_\u001b[0m\u001b[0;34m,\u001b[0m \u001b[0moriginal_func\u001b[0m \u001b[0;34m=\u001b[0m \u001b[0mtf_decorator\u001b[0m\u001b[0;34m.\u001b[0m\u001b[0munwrap\u001b[0m\u001b[0;34m(\u001b[0m\u001b[0mpython_func\u001b[0m\u001b[0;34m)\u001b[0m\u001b[0;34m\u001b[0m\u001b[0;34m\u001b[0m\u001b[0m\n\u001b[1;32m    980\u001b[0m \u001b[0;34m\u001b[0m\u001b[0m\n\u001b[0;32m--> 981\u001b[0;31m       \u001b[0mfunc_outputs\u001b[0m \u001b[0;34m=\u001b[0m \u001b[0mpython_func\u001b[0m\u001b[0;34m(\u001b[0m\u001b[0;34m*\u001b[0m\u001b[0mfunc_args\u001b[0m\u001b[0;34m,\u001b[0m \u001b[0;34m**\u001b[0m\u001b[0mfunc_kwargs\u001b[0m\u001b[0;34m)\u001b[0m\u001b[0;34m\u001b[0m\u001b[0;34m\u001b[0m\u001b[0m\n\u001b[0m\u001b[1;32m    982\u001b[0m \u001b[0;34m\u001b[0m\u001b[0m\n\u001b[1;32m    983\u001b[0m       \u001b[0;31m# invariant: `func_outputs` contains only Tensors, CompositeTensors,\u001b[0m\u001b[0;34m\u001b[0m\u001b[0;34m\u001b[0m\u001b[0;34m\u001b[0m\u001b[0m\n",
      "\u001b[0;32m~/Documents/Github/Voicenet/voicenet_venv/lib/python3.7/site-packages/tensorflow/python/eager/def_function.py\u001b[0m in \u001b[0;36mwrapped_fn\u001b[0;34m(*args, **kwds)\u001b[0m\n\u001b[1;32m    439\u001b[0m         \u001b[0;31m# __wrapped__ allows AutoGraph to swap in a converted function. We give\u001b[0m\u001b[0;34m\u001b[0m\u001b[0;34m\u001b[0m\u001b[0;34m\u001b[0m\u001b[0m\n\u001b[1;32m    440\u001b[0m         \u001b[0;31m# the function a weak reference to itself to avoid a reference cycle.\u001b[0m\u001b[0;34m\u001b[0m\u001b[0;34m\u001b[0m\u001b[0;34m\u001b[0m\u001b[0m\n\u001b[0;32m--> 441\u001b[0;31m         \u001b[0;32mreturn\u001b[0m \u001b[0mweak_wrapped_fn\u001b[0m\u001b[0;34m(\u001b[0m\u001b[0;34m)\u001b[0m\u001b[0;34m.\u001b[0m\u001b[0m__wrapped__\u001b[0m\u001b[0;34m(\u001b[0m\u001b[0;34m*\u001b[0m\u001b[0margs\u001b[0m\u001b[0;34m,\u001b[0m \u001b[0;34m**\u001b[0m\u001b[0mkwds\u001b[0m\u001b[0;34m)\u001b[0m\u001b[0;34m\u001b[0m\u001b[0;34m\u001b[0m\u001b[0m\n\u001b[0m\u001b[1;32m    442\u001b[0m     \u001b[0mweak_wrapped_fn\u001b[0m \u001b[0;34m=\u001b[0m \u001b[0mweakref\u001b[0m\u001b[0;34m.\u001b[0m\u001b[0mref\u001b[0m\u001b[0;34m(\u001b[0m\u001b[0mwrapped_fn\u001b[0m\u001b[0;34m)\u001b[0m\u001b[0;34m\u001b[0m\u001b[0;34m\u001b[0m\u001b[0m\n\u001b[1;32m    443\u001b[0m \u001b[0;34m\u001b[0m\u001b[0m\n",
      "\u001b[0;32m~/Documents/Github/Voicenet/voicenet_venv/lib/python3.7/site-packages/tensorflow/python/framework/func_graph.py\u001b[0m in \u001b[0;36mwrapper\u001b[0;34m(*args, **kwargs)\u001b[0m\n\u001b[1;32m    966\u001b[0m           \u001b[0;32mexcept\u001b[0m \u001b[0mException\u001b[0m \u001b[0;32mas\u001b[0m \u001b[0me\u001b[0m\u001b[0;34m:\u001b[0m  \u001b[0;31m# pylint:disable=broad-except\u001b[0m\u001b[0;34m\u001b[0m\u001b[0;34m\u001b[0m\u001b[0m\n\u001b[1;32m    967\u001b[0m             \u001b[0;32mif\u001b[0m \u001b[0mhasattr\u001b[0m\u001b[0;34m(\u001b[0m\u001b[0me\u001b[0m\u001b[0;34m,\u001b[0m \u001b[0;34m\"ag_error_metadata\"\u001b[0m\u001b[0;34m)\u001b[0m\u001b[0;34m:\u001b[0m\u001b[0;34m\u001b[0m\u001b[0;34m\u001b[0m\u001b[0m\n\u001b[0;32m--> 968\u001b[0;31m               \u001b[0;32mraise\u001b[0m \u001b[0me\u001b[0m\u001b[0;34m.\u001b[0m\u001b[0mag_error_metadata\u001b[0m\u001b[0;34m.\u001b[0m\u001b[0mto_exception\u001b[0m\u001b[0;34m(\u001b[0m\u001b[0me\u001b[0m\u001b[0;34m)\u001b[0m\u001b[0;34m\u001b[0m\u001b[0;34m\u001b[0m\u001b[0m\n\u001b[0m\u001b[1;32m    969\u001b[0m             \u001b[0;32melse\u001b[0m\u001b[0;34m:\u001b[0m\u001b[0;34m\u001b[0m\u001b[0;34m\u001b[0m\u001b[0m\n\u001b[1;32m    970\u001b[0m               \u001b[0;32mraise\u001b[0m\u001b[0;34m\u001b[0m\u001b[0;34m\u001b[0m\u001b[0m\n",
      "\u001b[0;31mValueError\u001b[0m: in user code:\n\n    /home/ridhima/Documents/Github/Voicenet/voicenet_venv/lib/python3.7/site-packages/tensorflow/python/keras/engine/training.py:1147 predict_function  *\n        outputs = self.distribute_strategy.run(\n    /home/ridhima/Documents/Github/Voicenet/voicenet_venv/lib/python3.7/site-packages/tensorflow/python/distribute/distribute_lib.py:951 run  **\n        return self._extended.call_for_each_replica(fn, args=args, kwargs=kwargs)\n    /home/ridhima/Documents/Github/Voicenet/voicenet_venv/lib/python3.7/site-packages/tensorflow/python/distribute/distribute_lib.py:2290 call_for_each_replica\n        return self._call_for_each_replica(fn, args, kwargs)\n    /home/ridhima/Documents/Github/Voicenet/voicenet_venv/lib/python3.7/site-packages/tensorflow/python/distribute/distribute_lib.py:2649 _call_for_each_replica\n        return fn(*args, **kwargs)\n    /home/ridhima/Documents/Github/Voicenet/voicenet_venv/lib/python3.7/site-packages/tensorflow/python/keras/engine/training.py:1122 predict_step  **\n        return self(x, training=False)\n    /home/ridhima/Documents/Github/Voicenet/voicenet_venv/lib/python3.7/site-packages/tensorflow/python/keras/engine/base_layer.py:886 __call__\n        self.name)\n    /home/ridhima/Documents/Github/Voicenet/voicenet_venv/lib/python3.7/site-packages/tensorflow/python/keras/engine/input_spec.py:180 assert_input_compatibility\n        str(x.shape.as_list()))\n\n    ValueError: Input 0 of layer sequential_6 is incompatible with the layer: expected ndim=4, found ndim=3. Full shape received: [None, 39, 1]\n"
     ]
    }
   ],
   "source": [
    "X_test = X_test.reshape(X_test.shape[0], X_test.shape[1], X_test.shape[2], 1)\n",
    "cnn_model.predict(X_test[0])"
   ]
  },
  {
   "cell_type": "code",
   "execution_count": 75,
   "metadata": {},
   "outputs": [
    {
     "name": "stdout",
     "output_type": "stream",
     "text": [
      "41/41 [==============================] - 1s 14ms/step - loss: 0.0186 - accuracy: 0.9969\n"
     ]
    },
    {
     "data": {
      "text/plain": [
       "[0.018633203580975533, 0.9968871474266052]"
      ]
     },
     "execution_count": 75,
     "metadata": {},
     "output_type": "execute_result"
    }
   ],
   "source": [
    "cnn_model.evaluate(X_test, np.array(np.array(y_test).reshape((len(y_test),1))))"
   ]
  },
  {
   "cell_type": "code",
   "execution_count": null,
   "metadata": {},
   "outputs": [],
   "source": []
  },
  {
   "cell_type": "code",
   "execution_count": null,
   "metadata": {},
   "outputs": [],
   "source": []
  },
  {
   "cell_type": "code",
   "execution_count": 62,
   "metadata": {},
   "outputs": [],
   "source": [
    "## Testing snippets"
   ]
  },
  {
   "cell_type": "code",
   "execution_count": 37,
   "metadata": {},
   "outputs": [
    {
     "name": "stdout",
     "output_type": "stream",
     "text": [
      "[2 1 1]\n",
      "(3,)\n",
      "[[2]\n",
      " [1]\n",
      " [1]]\n",
      "(3, 1)\n"
     ]
    }
   ],
   "source": [
    "x = np.array([2,1,1])\n",
    "print(x)\n",
    "print(x.shape)\n",
    "x = x.reshape(3,1)\n",
    "print(x)\n",
    "print(x.shape)"
   ]
  },
  {
   "cell_type": "code",
   "execution_count": 15,
   "metadata": {},
   "outputs": [
    {
     "data": {
      "text/plain": [
       "(2557, 1)"
      ]
     },
     "execution_count": 15,
     "metadata": {},
     "output_type": "execute_result"
    }
   ],
   "source": [
    "np.array(np.array(y_train).reshape((len(y_train),1))).shape"
   ]
  },
  {
   "cell_type": "code",
   "execution_count": 19,
   "metadata": {},
   "outputs": [
    {
     "data": {
      "text/plain": [
       "19.9765625"
      ]
     },
     "execution_count": 19,
     "metadata": {},
     "output_type": "execute_result"
    }
   ],
   "source": [
    "2557/128"
   ]
  },
  {
   "cell_type": "code",
   "execution_count": 17,
   "metadata": {},
   "outputs": [
    {
     "data": {
      "text/plain": [
       "array([[0],\n",
       "       [0],\n",
       "       [0],\n",
       "       ...,\n",
       "       [1],\n",
       "       [1],\n",
       "       [1]])"
      ]
     },
     "execution_count": 17,
     "metadata": {},
     "output_type": "execute_result"
    }
   ],
   "source": [
    "np.array(np.array(y_train).reshape((len(y_train),1)))"
   ]
  },
  {
   "cell_type": "code",
   "execution_count": null,
   "metadata": {},
   "outputs": [],
   "source": []
  }
 ],
 "metadata": {
  "kernelspec": {
   "display_name": "Python 3.7.5 64-bit ('voicenet_venv': venv)",
   "language": "python",
   "name": "python37564bitvoicenetvenvvenv3211909c721248e184b0b91a67b5318b"
  },
  "language_info": {
   "codemirror_mode": {
    "name": "ipython",
    "version": 3
   },
   "file_extension": ".py",
   "mimetype": "text/x-python",
   "name": "python",
   "nbconvert_exporter": "python",
   "pygments_lexer": "ipython3",
   "version": "3.7.5"
  }
 },
 "nbformat": 4,
 "nbformat_minor": 4
}
